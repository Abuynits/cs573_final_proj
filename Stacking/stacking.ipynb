{
 "cells": [
  {
   "cell_type": "code",
   "execution_count": 6,
   "metadata": {},
   "outputs": [],
   "source": [
    "import itertools\n",
    "import numpy as np\n",
    "import pandas as pd\n",
    "from sklearn.ensemble import GradientBoostingClassifier, RandomForestClassifier, StackingClassifier\n",
    "from xgboost import XGBClassifier\n",
    "from sklearn.metrics import accuracy_score\n",
    "from sklearn.model_selection import train_test_split\n",
    "import matplotlib.pyplot as plt\n",
    "\n",
    "class ChiSquarePrunedTree:\n",
    "    def __init__(self, max_depth=None, min_samples_split=2, alpha=0.05):\n",
    "        self.tree = DecisionTreeClassifier(max_depth=max_depth, min_samples_split=min_samples_split, random_state=42)\n",
    "        self.alpha = alpha\n",
    "\n",
    "    def fit(self, X, y):\n",
    "        self.tree.fit(X, y)\n",
    "        self.X = X.values if isinstance(X, pd.DataFrame) else X\n",
    "        self.y = y\n",
    "\n",
    "    def prune(self):\n",
    "        tree = self.tree.tree_\n",
    "        n_nodes = tree.node_count\n",
    "        children_left = tree.children_left\n",
    "        children_right = tree.children_right\n",
    "        feature = tree.feature\n",
    "        threshold = tree.threshold\n",
    "\n",
    "        def prune_node(node):\n",
    "            if children_left[node] == -1 and children_right[node] == -1:\n",
    "                return\n",
    "            \n",
    "            left = children_left[node]\n",
    "            right = children_right[node]\n",
    "\n",
    "            if left == -1 or right == -1:\n",
    "                return\n",
    "            \n",
    "            left_samples = self.y[self.X[:, feature[node]] <= threshold[node]]\n",
    "            right_samples = self.y[self.X[:, feature[node]] > threshold[node]]\n",
    "\n",
    "            contingency_table = np.array([\n",
    "                [np.sum(left_samples == c), np.sum(right_samples == c)] for c in np.unique(self.y)\n",
    "            ])\n",
    "\n",
    "            chi2, p_value, _, _ = chi2_contingency(contingency_table)\n",
    "            if p_value > self.alpha:\n",
    "                children_left[node] = -1\n",
    "                children_right[node] = -1\n",
    "\n",
    "            prune_node(left)\n",
    "            prune_node(right)\n",
    "\n",
    "        prune_node(0)\n",
    "\n",
    "    def predict(self, X):\n",
    "        return self.tree.predict(X.values if isinstance(X, pd.DataFrame) else X)\n"
   ]
  },
  {
   "cell_type": "code",
   "execution_count": null,
   "metadata": {},
   "outputs": [],
   "source": [
    "file_path = \"/Users/sanghyunkim/Desktop/573 Proj/cs573_final_proj/df_one_hot_encoded_normalized.csv\"\n",
    "data = pd.read_csv(file_path)\n",
    "\n",
    "target_column = \"Target\"\n",
    "X = data.drop(columns=[target_column])\n",
    "y = data[target_column].replace({'1': 1, '0': 0, 'Enrolled': 2}).astype(int)\n",
    "\n",
    "\n",
    "X_train, X_test, y_train, y_test = train_test_split(X, y, test_size=0.2, random_state=42, stratify=y)\n",
    "\n",
    "# model definition\n",
    "gradient_boosting = GradientBoostingClassifier(learning_rate=0.1, max_depth=7, random_state=42)\n",
    "xgboost = XGBClassifier(learning_rate=0.1, max_depth=9, eval_metric='mlogloss', random_state=42)\n",
    "random_forest = RandomForestClassifier(n_estimators=100, max_depth=None, random_state=42)\n",
    "chi_square_pruned_tree = ChiSquarePrunedTree(max_depth=5, min_samples_split=10, alpha=0.1)\n"
   ]
  },
  {
   "cell_type": "code",
   "execution_count": 5,
   "metadata": {},
   "outputs": [
    {
     "name": "stdout",
     "output_type": "stream",
     "text": [
      "All Results:\n",
      "                                   Base Models  Accuracy\n",
      "0  [gradient_boosting, xgboost, random_forest]  0.776271\n",
      "1  [gradient_boosting, random_forest, xgboost]  0.776271\n",
      "2  [xgboost, gradient_boosting, random_forest]  0.776271\n",
      "3  [xgboost, random_forest, gradient_boosting]  0.776271\n",
      "4  [random_forest, gradient_boosting, xgboost]  0.776271\n",
      "5  [random_forest, xgboost, gradient_boosting]  0.776271\n",
      "\n",
      "Best Result:\n",
      "Base Models    [gradient_boosting, xgboost, random_forest]\n",
      "Accuracy                                          0.776271\n",
      "Name: 0, dtype: object\n"
     ]
    },
    {
     "data": {
      "image/png": "[encoded data removed]",
      "text/plain": [
       "<Figure size 864x432 with 1 Axes>"
      ]
     },
     "metadata": {
      "needs_background": "light"
     },
     "output_type": "display_data"
    }
   ],
   "source": [
    "base_models = [\n",
    "    ('gradient_boosting', gradient_boosting),\n",
    "    ('xgboost', xgboost),\n",
    "    ('random_forest', random_forest),\n",
    "]\n",
    "\n",
    "meta_model = chi_square_pruned_tree\n",
    "\n",
    "base_combinations = list(itertools.permutations(base_models, len(base_models)))\n",
    "results = []\n",
    "\n",
    "for base_combination in base_combinations:\n",
    "    base_train_preds = []\n",
    "    for name, model in base_combination:\n",
    "        model.fit(X_train, y_train)\n",
    "        base_train_preds.append(model.predict(X_train))\n",
    "    \n",
    "    stacked_features = np.column_stack(base_train_preds)\n",
    "    meta_model.fit(stacked_features, y_train)\n",
    "\n",
    "    base_test_preds = [model.predict(X_test) for _, model in base_combination]\n",
    "    stacked_test_features = np.column_stack(base_test_preds)\n",
    "    y_pred = meta_model.predict(stacked_test_features)\n",
    "\n",
    "    accuracy = accuracy_score(y_test, y_pred)\n",
    "\n",
    "    results.append({\n",
    "        'Base Models': [name for name, _ in base_combination],\n",
    "        'Accuracy': accuracy\n",
    "    })\n",
    "\n",
    "results_df = pd.DataFrame(results)\n",
    "best_result = results_df.loc[results_df['Accuracy'].idxmax()]\n",
    "\n",
    "print(\"All Results:\")\n",
    "print(results_df)\n",
    "print(\"\\nBest Result:\")\n",
    "print(best_result)\n",
    "\n",
    "plt.figure(figsize=(12, 6))\n",
    "plt.barh(\n",
    "    results_df.index,\n",
    "    results_df['Accuracy'],\n",
    "    tick_label=[\" -> \".join(row['Base Models']) for _, row in results_df.iterrows()]\n",
    ")\n",
    "plt.xlabel(\"Accuracy\")\n",
    "plt.title(\"Stacking Model Performance for All Combinations\")\n",
    "plt.show()\n"
   ]
  },
  {
   "cell_type": "code",
   "execution_count": null,
   "metadata": {},
   "outputs": [],
   "source": []
  }
 ],
 "metadata": {
  "kernelspec": {
   "display_name": "base",
   "language": "python",
   "name": "python3"
  },
  "language_info": {
   "codemirror_mode": {
    "name": "ipython",
    "version": 3
   },
   "file_extension": ".py",
   "mimetype": "text/x-python",
   "name": "python",
   "nbconvert_exporter": "python",
   "pygments_lexer": "ipython3",
   "version": "3.9.7"
  }
 },
 "nbformat": 4,
 "nbformat_minor": 2
}
