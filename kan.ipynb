{
 "cells": [
  {
   "cell_type": "code",
   "execution_count": 105,
   "id": "initial_id",
   "metadata": {
    "collapsed": true,
    "ExecuteTime": {
     "end_time": "2024-11-16T23:05:22.666879Z",
     "start_time": "2024-11-16T23:05:20.207486Z"
    }
   },
   "outputs": [],
   "source": [
    "import numpy as np\n",
    "import torch\n",
    "import pandas as pd\n",
    "from kan import *\n",
    "from collections import deque\n",
    "!pip install ucimlrepo  --quiet"
   ]
  },
  {
   "cell_type": "code",
   "execution_count": 106,
   "id": "f7410b1026fb4a61",
   "metadata": {
    "collapsed": false,
    "ExecuteTime": {
     "end_time": "2024-11-16T23:05:23.634518Z",
     "start_time": "2024-11-16T23:05:22.668789Z"
    }
   },
   "outputs": [
    {
     "name": "stdout",
     "output_type": "stream",
     "text": [
      "4424 entries with 37 features\n"
     ]
    }
   ],
   "source": [
    "from ucimlrepo import fetch_ucirepo\n",
    "\n",
    "# fetch dataset \n",
    "predict_students_dropout_and_academic_success = fetch_ucirepo(id=697)\n",
    "\n",
    "# data (as pandas dataframes) \n",
    "X = predict_students_dropout_and_academic_success.data.features\n",
    "y = predict_students_dropout_and_academic_success.data.targets\n",
    "# metadata \n",
    "metadata = predict_students_dropout_and_academic_success.metadata\n",
    "\n",
    "# variable information \n",
    "variable_info = predict_students_dropout_and_academic_success.variables\n",
    "\n",
    "df = X\n",
    "df['Target'] = y\n",
    "\n",
    "print(f\"{df.shape[0]} entries with {df.shape[1]} features\")"
   ]
  },
  {
   "cell_type": "code",
   "execution_count": 107,
   "id": "2d73c6ecbf974d5",
   "metadata": {
    "collapsed": false,
    "ExecuteTime": {
     "end_time": "2024-11-16T23:05:23.639550Z",
     "start_time": "2024-11-16T23:05:23.635436Z"
    }
   },
   "outputs": [
    {
     "name": "stdout",
     "output_type": "stream",
     "text": [
      "categorical vars 18\n",
      "quantitative vars 19\n"
     ]
    }
   ],
   "source": [
    "categorical_vars = {\n",
    "    'Marital Status',\n",
    "    'Application mode',\n",
    "    'Course',\n",
    "    'Daytime/evening attendance',\n",
    "    'Previous qualification',\n",
    "    'Nacionality',\n",
    "    'Mother\\'s qualification',\n",
    "    'Father\\'s qualification',\n",
    "    'Mother\\'s occupation',\n",
    "    'Father\\'s occupation',\n",
    "    'Displaced', 'Educational special needs', 'Debtor',\n",
    "    'Tuition fees up to date', 'Gender', 'Scholarship holder',\n",
    "    'International',\n",
    "    'Target'\n",
    "}\n",
    "quantitative_vars = {\n",
    "   'Application order',\n",
    "    'Previous qualification (grade)',\n",
    "    'Admission grade',\n",
    "    'Age at enrollment',\n",
    "   'Curricular units 1st sem (enrolled)',\n",
    "   'Curricular units 1st sem (credited)',\n",
    "   'Curricular units 1st sem (evaluations)',\n",
    "   'Curricular units 1st sem (approved)',\n",
    "   'Curricular units 1st sem (grade)',\n",
    "   'Curricular units 1st sem (without evaluations)',\n",
    "   'Curricular units 2nd sem (credited)',\n",
    "   'Curricular units 2nd sem (enrolled)',\n",
    "   'Curricular units 2nd sem (evaluations)',\n",
    "   'Curricular units 2nd sem (approved)',\n",
    "   'Curricular units 2nd sem (grade)',\n",
    "   'Curricular units 2nd sem (without evaluations)',\n",
    "   'Unemployment rate',\n",
    "   'Inflation rate',\n",
    "    'GDP'\n",
    "}\n",
    "print(\"categorical vars\", len(categorical_vars))\n",
    "print(\"quantitative vars\", len(quantitative_vars))\n",
    "#print(df.columns)"
   ]
  },
  {
   "cell_type": "code",
   "execution_count": 108,
   "id": "d4c42379accfdc5e",
   "metadata": {
    "collapsed": false,
    "ExecuteTime": {
     "end_time": "2024-11-16T23:05:23.664983Z",
     "start_time": "2024-11-16T23:05:23.641436Z"
    }
   },
   "outputs": [],
   "source": [
    "# remove the 'enrolled' column from dataframe:\n",
    "df.drop(['Inflation rate', 'GDP'], axis=1, inplace=True)\n",
    "misc_curriculum = [\n",
    "    \"Curricular units 1st sem (evaluations)\",\n",
    "    \"Curricular units 2nd sem (evaluations)\",\n",
    "    \"Curricular units 1st sem (credited)\",\n",
    "    \"Curricular units 2nd sem (credited)\",\n",
    "    \"Curricular units 1st sem (without evaluations)\",\n",
    "    \"Curricular units 2nd sem (without evaluations)\",\n",
    "]\n",
    "quantitative_vars -= set(misc_curriculum).union({\"Inflation rate\", \"GDP\"})\n",
    "df.drop(misc_curriculum, axis=1, inplace=True)\n",
    "\n",
    "df_encoded = df[df['Target'].isin(['Graduate', 'Dropout'])].copy()\n",
    "df_encoded[\"Target\"] = df_encoded[\"Target\"].replace({'Graduate': 0, 'Dropout': 1})\n",
    "# Applying one-hot encoding on categorical variables\n",
    "df_encoded = pd.get_dummies(df_encoded, columns=list(categorical_vars - {'Target'}))\n",
    "\n",
    "# normalize quantitative columns:\n",
    "df_encoded[list(quantitative_vars)] = df_encoded[list(quantitative_vars)].apply(lambda x: (x-x.min())/(x.max()-x.min()))\n",
    "\n",
    "valid_count = int(len(df_encoded) * 0.7)\n",
    "test_count = int(len(df_encoded) * 0.8)\n",
    "df_shuffled = df_encoded.sample(frac=1, random_state=42).reset_index(drop=True)\n",
    "df_train = df_encoded[:valid_count].reset_index(drop=True)\n",
    "df_valid = df_encoded[valid_count:test_count].reset_index(drop=True)\n",
    "df_test = df_encoded[test_count:].reset_index(drop=True)\n",
    "\n",
    "y_train = df_train[\"Target\"]\n",
    "x_train = df_train.drop([\"Target\"], axis=1)\n",
    "y_test = df_test[\"Target\"]\n",
    "x_test = df_test.drop([\"Target\"], axis=1)\n",
    "y_valid = df_valid[\"Target\"]\n",
    "x_valid = df_valid.drop([\"Target\"], axis=1)\n"
   ]
  },
  {
   "cell_type": "code",
   "outputs": [],
   "source": [
    "if torch.cuda.is_available():\n",
    "  device = torch.device(\"cuda\")\n",
    "else:\n",
    "  device = torch.device(\"cpu\")"
   ],
   "metadata": {
    "collapsed": false,
    "ExecuteTime": {
     "end_time": "2024-11-16T23:05:23.668239Z",
     "start_time": "2024-11-16T23:05:23.666025Z"
    }
   },
   "id": "7d4d27b686ff1104",
   "execution_count": 109
  },
  {
   "cell_type": "code",
   "outputs": [],
   "source": [
    "def prep_dataset(x_train, y_train, x_valid, y_valid, x_test, y_test):\n",
    "    \n",
    "    def get_dataloader(x, y, shuffle=False, batch_size=1):\n",
    "        x, y = x.to_numpy().astype(np.float32), y.to_numpy().astype(np.int32)\n",
    "        x = torch.from_numpy(x).to(torch.float32)\n",
    "        y = torch.from_numpy(y).to(torch.long)\n",
    "        ds = torch.utils.data.TensorDataset(x,y)\n",
    "        return torch.utils.data.DataLoader(ds, batch_size=batch_size, shuffle=shuffle) \n",
    "    def get_ds_tensors(loader):\n",
    "        x = torch.empty(0, x_train.shape[1], device=device)\n",
    "        y = torch.empty(0, dtype=torch.long, device=device)\n",
    "        for data, labels in loader:\n",
    "            x = torch.cat((x, data.to(device)), dim=0)\n",
    "            y = torch.cat((y, labels.to(device)), dim=0)\n",
    "        return x, y\n",
    "    \n",
    "    x_train, y_train = get_ds_tensors(get_dataloader(x_train, y_train, shuffle=True))\n",
    "    x_valid, y_valid = get_ds_tensors(get_dataloader(x_valid, y_valid, shuffle=False))\n",
    "    x_test, y_test = get_ds_tensors(get_dataloader(x_test, y_test, shuffle=False))\n",
    "    \n",
    "    train_ds = {}\n",
    "    train_ds['train_input'] = x_train\n",
    "    train_ds['test_input'] = x_valid \n",
    "    train_ds['train_label'] = y_train\n",
    "    train_ds['test_label'] = y_valid\n",
    "    test_ds = {}\n",
    "    test_ds['test_input'] = x_test\n",
    "    test_ds['test_label'] = y_test\n",
    "    \n",
    "    return train_ds, test_ds\n",
    "\n",
    "train_ds, test_ds = prep_dataset(x_train, y_train, x_valid, y_valid, x_test, y_test)"
   ],
   "metadata": {
    "collapsed": false,
    "ExecuteTime": {
     "end_time": "2024-11-16T23:06:49.852432Z",
     "start_time": "2024-11-16T23:06:49.547203Z"
    }
   },
   "id": "2db7dfa078c6eced",
   "execution_count": 118
  },
  {
   "cell_type": "code",
   "execution_count": 119,
   "id": "881b5b850b1ccbc",
   "metadata": {
    "collapsed": false,
    "ExecuteTime": {
     "end_time": "2024-11-16T23:06:50.342698Z",
     "start_time": "2024-11-16T23:06:50.329489Z"
    }
   },
   "outputs": [
    {
     "name": "stdout",
     "output_type": "stream",
     "text": [
      "checkpoint directory created: ./model\n",
      "saving model version 0.0\n"
     ]
    }
   ],
   "source": [
    "model = KAN(width=[238, 2, 2], grid=5, k=3, seed=0)"
   ]
  },
  {
   "cell_type": "code",
   "outputs": [],
   "source": [
    "image_folder = \"/Users/alexiy/Projects/Purdue/cs573_proj/kan_img\""
   ],
   "metadata": {
    "collapsed": false,
    "ExecuteTime": {
     "end_time": "2024-11-16T23:06:50.992797Z",
     "start_time": "2024-11-16T23:06:50.989897Z"
    }
   },
   "id": "3afa52485860bf33",
   "execution_count": 120
  },
  {
   "cell_type": "code",
   "outputs": [
    {
     "name": "stderr",
     "output_type": "stream",
     "text": [
      "\n",
      "description:   0%|                                                          | 0/100 [00:00<?, ?it/s]\u001B[A\n",
      "description:   0%|                                                          | 0/100 [04:25<?, ?it/s]\u001B[A\n",
      "\n",
      "| train_loss: 8.39e-01 | test_loss: 8.28e-01 | reg: 2.83e+02 | :   1%| | 1/100 [00:32<54:05, 32.78s/\u001B[A\n",
      "| train_loss: 8.38e-01 | test_loss: 8.36e-01 | reg: 3.83e+02 | :   1%| | 1/100 [00:32<54:05, 32.78s/\u001B[A\n",
      "| train_loss: 8.38e-01 | test_loss: 8.36e-01 | reg: 3.83e+02 | :   2%| | 2/100 [01:04<52:55, 32.40s/\u001B[A\n",
      "| train_loss: 8.34e-01 | test_loss: 1.06e+00 | reg: 4.65e+02 | :   2%| | 2/100 [01:05<52:55, 32.40s/\u001B[A\n",
      "| train_loss: 8.34e-01 | test_loss: 1.06e+00 | reg: 4.65e+02 | :   3%| | 3/100 [01:36<51:59, 32.16s/\u001B[A\n",
      "| train_loss: 1.05e+00 | test_loss: 8.33e-01 | reg: 4.00e+02 | :   3%| | 3/100 [01:36<51:59, 32.16s/\u001B[A\n",
      "| train_loss: 1.05e+00 | test_loss: 8.33e-01 | reg: 4.00e+02 | :   4%| | 4/100 [02:10<52:07, 32.58s/\u001B[A\n",
      "| train_loss: 8.33e-01 | test_loss: 8.33e-01 | reg: 3.88e+02 | :   4%| | 4/100 [02:10<52:07, 32.58s/\u001B[A\n",
      "| train_loss: 8.33e-01 | test_loss: 8.33e-01 | reg: 3.88e+02 | :   5%| | 5/100 [02:42<51:36, 32.60s/\u001B[A\n",
      "| train_loss: 8.33e-01 | test_loss: 8.33e-01 | reg: 4.47e+02 | :   5%| | 5/100 [02:42<51:36, 32.60s/\u001B[A\n",
      "| train_loss: 8.33e-01 | test_loss: 8.33e-01 | reg: 4.47e+02 | :   6%| | 6/100 [03:13<50:11, 32.04s/\u001B[A\n",
      "| train_loss: 8.33e-01 | test_loss: 8.33e-01 | reg: 3.88e+02 | :   6%| | 6/100 [03:13<50:11, 32.04s/\u001B[A\n",
      "| train_loss: 8.33e-01 | test_loss: 8.33e-01 | reg: 3.88e+02 | :   7%| | 7/100 [03:45<49:33, 31.97s/\u001B[A\n",
      "| train_loss: 8.33e-01 | test_loss: 8.33e-01 | reg: 3.18e+02 | :   7%| | 7/100 [03:45<49:33, 31.97s/\u001B[A\n",
      "| train_loss: 8.33e-01 | test_loss: 8.33e-01 | reg: 3.18e+02 | :   8%| | 8/100 [04:16<48:39, 31.73s/\u001B[A\n",
      "| train_loss: 8.33e-01 | test_loss: 8.33e-01 | reg: 3.38e+02 | :   8%| | 8/100 [04:16<48:39, 31.73s/\u001B[A\n",
      "| train_loss: 8.33e-01 | test_loss: 8.33e-01 | reg: 3.38e+02 | :   9%| | 9/100 [04:46<47:12, 31.13s/\u001B[A\n",
      "| train_loss: 8.33e-01 | test_loss: 8.33e-01 | reg: 3.92e+02 | :   9%| | 9/100 [04:46<47:12, 31.13s/\u001B[A\n",
      "| train_loss: 8.33e-01 | test_loss: 8.33e-01 | reg: 3.92e+02 | :  10%| | 10/100 [05:18<47:01, 31.35s\u001B[A\n",
      "| train_loss: 8.33e-01 | test_loss: 8.49e-01 | reg: 5.43e+02 | :  10%| | 10/100 [05:18<47:01, 31.35s\u001B[A\n",
      "| train_loss: 8.33e-01 | test_loss: 8.49e-01 | reg: 5.43e+02 | :  11%| | 11/100 [05:48<45:57, 30.98s\u001B[A\n",
      "| train_loss: 8.31e-01 | test_loss: 8.33e-01 | reg: 4.77e+02 | :  11%| | 11/100 [05:48<45:57, 30.98s\u001B[A\n",
      "| train_loss: 8.31e-01 | test_loss: 8.33e-01 | reg: 4.77e+02 | :  12%| | 12/100 [06:18<44:55, 30.63s\u001B[A\n",
      "| train_loss: 8.33e-01 | test_loss: 8.34e-01 | reg: 3.87e+02 | :  12%| | 12/100 [06:18<44:55, 30.63s\u001B[A\n",
      "| train_loss: 8.33e-01 | test_loss: 8.34e-01 | reg: 3.87e+02 | :  13%|▏| 13/100 [06:50<45:14, 31.20s\u001B[A\n",
      "| train_loss: 8.34e-01 | test_loss: 8.36e-01 | reg: 3.39e+02 | :  13%|▏| 13/100 [06:50<45:14, 31.20s\u001B[A\n",
      "| train_loss: 8.34e-01 | test_loss: 8.36e-01 | reg: 3.39e+02 | :  14%|▏| 14/100 [07:20<44:06, 30.78s\u001B[A\n",
      "| train_loss: 8.36e-01 | test_loss: 8.33e-01 | reg: 3.32e+02 | :  14%|▏| 14/100 [07:20<44:06, 30.78s\u001B[A\n",
      "| train_loss: 8.36e-01 | test_loss: 8.33e-01 | reg: 3.32e+02 | :  15%|▏| 15/100 [07:51<43:40, 30.83s\u001B[A\n",
      "| train_loss: 8.33e-01 | test_loss: 8.50e-01 | reg: 4.86e+02 | :  15%|▏| 15/100 [07:51<43:40, 30.83s\u001B[A\n",
      "| train_loss: 8.33e-01 | test_loss: 8.50e-01 | reg: 4.86e+02 | :  16%|▏| 16/100 [08:25<44:38, 31.89s\u001B[A\n",
      "| train_loss: 8.18e-01 | test_loss: 8.32e-01 | reg: 3.99e+02 | :  16%|▏| 16/100 [08:26<44:38, 31.89s\u001B[A\n",
      "| train_loss: 8.18e-01 | test_loss: 8.32e-01 | reg: 3.99e+02 | :  17%|▏| 17/100 [08:57<43:52, 31.71s\u001B[A\n",
      "| train_loss: 8.36e-01 | test_loss: 8.33e-01 | reg: 3.22e+02 | :  17%|▏| 17/100 [08:57<43:52, 31.71s\u001B[A\n",
      "| train_loss: 8.36e-01 | test_loss: 8.33e-01 | reg: 3.22e+02 | :  18%|▏| 18/100 [09:28<43:17, 31.68s\u001B[A\n",
      "| train_loss: 8.33e-01 | test_loss: 8.33e-01 | reg: 3.06e+02 | :  18%|▏| 18/100 [09:28<43:17, 31.68s\u001B[A\n",
      "| train_loss: 8.33e-01 | test_loss: 8.33e-01 | reg: 3.06e+02 | :  19%|▏| 19/100 [09:59<42:32, 31.52s\u001B[A\n",
      "| train_loss: 8.33e-01 | test_loss: 8.33e-01 | reg: 3.54e+02 | :  19%|▏| 19/100 [10:00<42:32, 31.52s\u001B[A\n",
      "| train_loss: 8.33e-01 | test_loss: 8.33e-01 | reg: 3.54e+02 | :  20%|▏| 20/100 [10:35<43:41, 32.77s\u001B[A\n",
      "| train_loss: 8.33e-01 | test_loss: 8.36e-01 | reg: 3.58e+02 | :  20%|▏| 20/100 [10:35<43:41, 32.77s\u001B[A\n",
      "| train_loss: 8.33e-01 | test_loss: 8.36e-01 | reg: 3.58e+02 | :  21%|▏| 21/100 [11:07<42:49, 32.53s\u001B[A\n",
      "| train_loss: 8.36e-01 | test_loss: 8.33e-01 | reg: 2.83e+02 | :  21%|▏| 21/100 [11:07<42:49, 32.53s\u001B[A\n",
      "| train_loss: 8.36e-01 | test_loss: 8.33e-01 | reg: 2.83e+02 | :  22%|▏| 22/100 [11:38<41:45, 32.12s\u001B[A\n",
      "| train_loss: 8.33e-01 | test_loss: 8.33e-01 | reg: 2.40e+02 | :  22%|▏| 22/100 [11:38<41:45, 32.12s\u001B[A\n",
      "| train_loss: 8.33e-01 | test_loss: 8.33e-01 | reg: 2.40e+02 | :  23%|▏| 23/100 [12:09<40:39, 31.68s\u001B[A\n",
      "| train_loss: 8.33e-01 | test_loss: 8.33e-01 | reg: 2.62e+02 | :  23%|▏| 23/100 [12:09<40:39, 31.68s\u001B[A\n",
      "| train_loss: 8.33e-01 | test_loss: 8.33e-01 | reg: 2.62e+02 | :  24%|▏| 24/100 [12:40<40:03, 31.63s\u001B[A\n",
      "| train_loss: 8.33e-01 | test_loss: 8.33e-01 | reg: 3.10e+02 | :  24%|▏| 24/100 [12:41<40:03, 31.63s\u001B[A\n",
      "| train_loss: 8.33e-01 | test_loss: 8.33e-01 | reg: 3.10e+02 | :  25%|▎| 25/100 [13:19<42:02, 33.63s\u001B[A\n",
      "| train_loss: 8.33e-01 | test_loss: 9.06e-01 | reg: 2.65e+02 | :  25%|▎| 25/100 [13:19<42:02, 33.63s\u001B[A\n",
      "| train_loss: 8.33e-01 | test_loss: 9.06e-01 | reg: 2.65e+02 | :  26%|▎| 26/100 [13:52<41:13, 33.43s\u001B[A\n",
      "| train_loss: 8.61e-01 | test_loss: 8.33e-01 | reg: 2.45e+02 | :  26%|▎| 26/100 [13:52<41:13, 33.43s\u001B[A\n",
      "| train_loss: 8.61e-01 | test_loss: 8.33e-01 | reg: 2.45e+02 | :  27%|▎| 27/100 [14:24<40:06, 32.97s\u001B[A\n",
      "| train_loss: 8.33e-01 | test_loss: 8.33e-01 | reg: 2.60e+02 | :  27%|▎| 27/100 [14:24<40:06, 32.97s\u001B[A\n",
      "| train_loss: 8.33e-01 | test_loss: 8.33e-01 | reg: 2.60e+02 | :  28%|▎| 28/100 [14:55<39:10, 32.65s\u001B[A\n",
      "| train_loss: 8.33e-01 | test_loss: 8.33e-01 | reg: 3.04e+02 | :  28%|▎| 28/100 [14:56<39:10, 32.65s\u001B[A\n",
      "| train_loss: 8.33e-01 | test_loss: 8.33e-01 | reg: 3.04e+02 | :  29%|▎| 29/100 [15:27<38:15, 32.33s\u001B[A\n",
      "| train_loss: 8.33e-01 | test_loss: 8.33e-01 | reg: 3.27e+02 | :  29%|▎| 29/100 [15:27<38:15, 32.33s\u001B[A\n",
      "| train_loss: 8.33e-01 | test_loss: 8.33e-01 | reg: 3.27e+02 | :  30%|▎| 30/100 [15:58<37:12, 31.89s\u001B[A\n",
      "| train_loss: 8.33e-01 | test_loss: 8.37e-01 | reg: 3.33e+02 | :  30%|▎| 30/100 [15:58<37:12, 31.89s\u001B[A\n",
      "| train_loss: 8.33e-01 | test_loss: 8.37e-01 | reg: 3.33e+02 | :  31%|▎| 31/100 [16:29<36:29, 31.74s\u001B[A\n",
      "| train_loss: 8.24e-01 | test_loss: 8.28e-01 | reg: 2.96e+02 | :  31%|▎| 31/100 [16:29<36:29, 31.74s\u001B[A\n",
      "| train_loss: 8.24e-01 | test_loss: 8.28e-01 | reg: 2.96e+02 | :  32%|▎| 32/100 [17:07<38:10, 33.68s\u001B[A\n",
      "| train_loss: 8.36e-01 | test_loss: 8.33e-01 | reg: 2.84e+02 | :  32%|▎| 32/100 [17:08<38:10, 33.68s\u001B[A\n",
      "| train_loss: 8.36e-01 | test_loss: 8.33e-01 | reg: 2.84e+02 | :  33%|▎| 33/100 [17:39<36:46, 32.94s\u001B[A\n",
      "| train_loss: 8.33e-01 | test_loss: 8.51e-01 | reg: 2.78e+02 | :  33%|▎| 33/100 [17:39<36:46, 32.94s\u001B[A\n",
      "| train_loss: 8.33e-01 | test_loss: 8.51e-01 | reg: 2.78e+02 | :  34%|▎| 34/100 [18:11<35:53, 32.63s\u001B[A\n",
      "| train_loss: 8.37e-01 | test_loss: 8.33e-01 | reg: 2.93e+02 | :  34%|▎| 34/100 [18:11<35:53, 32.63s\u001B[A\n",
      "| train_loss: 8.37e-01 | test_loss: 8.33e-01 | reg: 2.93e+02 | :  35%|▎| 35/100 [18:42<34:53, 32.20s\u001B[A\n",
      "| train_loss: 8.33e-01 | test_loss: 8.33e-01 | reg: 3.00e+02 | :  35%|▎| 35/100 [18:42<34:53, 32.20s\u001B[A\n",
      "| train_loss: 8.33e-01 | test_loss: 8.33e-01 | reg: 3.00e+02 | :  36%|▎| 36/100 [19:14<34:22, 32.23s\u001B[A\n",
      "| train_loss: 8.33e-01 | test_loss: 8.33e-01 | reg: 2.59e+02 | :  36%|▎| 36/100 [19:14<34:22, 32.23s\u001B[A\n",
      "| train_loss: 8.33e-01 | test_loss: 8.33e-01 | reg: 2.59e+02 | :  37%|▎| 37/100 [19:46<33:38, 32.05s\u001B[A\n",
      "| train_loss: 8.33e-01 | test_loss: 8.33e-01 | reg: 2.61e+02 | :  37%|▎| 37/100 [19:46<33:38, 32.05s\u001B[A\n",
      "| train_loss: 8.33e-01 | test_loss: 8.33e-01 | reg: 2.61e+02 | :  38%|▍| 38/100 [20:17<32:58, 31.91s\u001B[A\n",
      "| train_loss: 8.33e-01 | test_loss: 8.33e-01 | reg: 2.78e+02 | :  38%|▍| 38/100 [20:17<32:58, 31.91s\u001B[A\n",
      "| train_loss: 8.33e-01 | test_loss: 8.33e-01 | reg: 2.78e+02 | :  39%|▍| 39/100 [20:58<35:13, 34.65s\u001B[A\n",
      "| train_loss: 8.33e-01 | test_loss: 8.33e-01 | reg: 2.88e+02 | :  39%|▍| 39/100 [20:59<35:13, 34.65s\u001B[A\n",
      "| train_loss: 8.33e-01 | test_loss: 8.33e-01 | reg: 2.88e+02 | :  40%|▍| 40/100 [21:30<33:49, 33.83s\u001B[A\n",
      "| train_loss: 8.33e-01 | test_loss: 8.31e-01 | reg: 2.65e+02 | :  40%|▍| 40/100 [21:31<33:49, 33.83s\u001B[A\n",
      "| train_loss: 8.33e-01 | test_loss: 8.31e-01 | reg: 2.65e+02 | :  41%|▍| 41/100 [22:03<32:50, 33.39s\u001B[A\n",
      "| train_loss: 8.23e-01 | test_loss: 8.32e-01 | reg: 2.43e+02 | :  41%|▍| 41/100 [22:03<32:50, 33.39s\u001B[A\n",
      "| train_loss: 8.23e-01 | test_loss: 8.32e-01 | reg: 2.43e+02 | :  42%|▍| 42/100 [22:34<31:48, 32.91s\u001B[A\n",
      "| train_loss: 8.30e-01 | test_loss: 8.30e-01 | reg: 2.38e+02 | :  42%|▍| 42/100 [22:35<31:48, 32.91s\u001B[A\n",
      "| train_loss: 8.30e-01 | test_loss: 8.30e-01 | reg: 2.38e+02 | :  43%|▍| 43/100 [23:06<30:53, 32.51s\u001B[A\n",
      "| train_loss: 8.27e-01 | test_loss: 8.26e-01 | reg: 2.51e+02 | :  43%|▍| 43/100 [23:06<30:53, 32.51s\u001B[A\n",
      "| train_loss: 8.27e-01 | test_loss: 8.26e-01 | reg: 2.51e+02 | :  44%|▍| 44/100 [23:38<30:08, 32.30s\u001B[A\n",
      "| train_loss: 8.25e-01 | test_loss: 8.35e-01 | reg: 2.58e+02 | :  44%|▍| 44/100 [23:38<30:08, 32.30s\u001B[A\n",
      "| train_loss: 8.25e-01 | test_loss: 8.35e-01 | reg: 2.58e+02 | :  45%|▍| 45/100 [24:10<29:29, 32.17s\u001B[A\n",
      "| train_loss: 8.07e-01 | test_loss: 8.37e-01 | reg: 2.12e+02 | :  45%|▍| 45/100 [24:10<29:29, 32.17s\u001B[A\n",
      "| train_loss: 8.07e-01 | test_loss: 8.37e-01 | reg: 2.12e+02 | :  46%|▍| 46/100 [24:44<29:28, 32.75s\u001B[A\n",
      "| train_loss: 8.37e-01 | test_loss: 8.30e-01 | reg: 1.99e+02 | :  46%|▍| 46/100 [24:44<29:28, 32.75s\u001B[A\n",
      "| train_loss: 8.37e-01 | test_loss: 8.30e-01 | reg: 1.99e+02 | :  47%|▍| 47/100 [25:18<29:12, 33.06s\u001B[A\n",
      "| train_loss: 8.24e-01 | test_loss: 8.34e-01 | reg: 2.02e+02 | :  47%|▍| 47/100 [25:18<29:12, 33.06s\u001B[A\n",
      "| train_loss: 8.24e-01 | test_loss: 8.34e-01 | reg: 2.02e+02 | :  48%|▍| 48/100 [25:50<28:27, 32.85s\u001B[A\n",
      "| train_loss: 8.35e-01 | test_loss: 8.29e-01 | reg: 2.05e+02 | :  48%|▍| 48/100 [25:50<28:27, 32.85s\u001B[A\n",
      "| train_loss: 8.35e-01 | test_loss: 8.29e-01 | reg: 2.05e+02 | :  49%|▍| 49/100 [26:35<31:00, 36.48s\u001B[A\n",
      "| train_loss: 8.16e-01 | test_loss: 8.48e-01 | reg: 2.05e+02 | :  49%|▍| 49/100 [26:35<31:00, 36.48s\u001B[A\n",
      "| train_loss: 8.16e-01 | test_loss: 8.48e-01 | reg: 2.05e+02 | :  50%|▌| 50/100 [27:07<29:18, 35.17s\u001B[A\n",
      "| train_loss: 8.35e-01 | test_loss: 8.33e-01 | reg: 2.03e+02 | :  50%|▌| 50/100 [27:07<29:18, 35.17s\u001B[A\n",
      "| train_loss: 8.35e-01 | test_loss: 8.33e-01 | reg: 2.03e+02 | :  51%|▌| 51/100 [27:38<27:39, 33.87s\u001B[A\n",
      "| train_loss: 8.33e-01 | test_loss: 8.33e-01 | reg: 1.98e+02 | :  51%|▌| 51/100 [27:38<27:39, 33.87s\u001B[A\n",
      "| train_loss: 8.33e-01 | test_loss: 8.33e-01 | reg: 1.98e+02 | :  52%|▌| 52/100 [28:09<26:32, 33.17s\u001B[A\n",
      "| train_loss: 8.33e-01 | test_loss: 8.33e-01 | reg: 1.95e+02 | :  52%|▌| 52/100 [28:10<26:32, 33.17s\u001B[A\n",
      "| train_loss: 8.33e-01 | test_loss: 8.33e-01 | reg: 1.95e+02 | :  53%|▌| 53/100 [28:42<25:47, 32.92s\u001B[A\n",
      "| train_loss: 8.33e-01 | test_loss: 8.33e-01 | reg: 1.97e+02 | :  53%|▌| 53/100 [28:42<25:47, 32.92s\u001B[A\n",
      "| train_loss: 8.33e-01 | test_loss: 8.33e-01 | reg: 1.97e+02 | :  54%|▌| 54/100 [29:14<25:03, 32.69s\u001B[A\n",
      "| train_loss: 8.33e-01 | test_loss: 8.33e-01 | reg: 1.96e+02 | :  54%|▌| 54/100 [29:14<25:03, 32.69s\u001B[A\n",
      "| train_loss: 8.33e-01 | test_loss: 8.33e-01 | reg: 1.96e+02 | :  55%|▌| 55/100 [29:46<24:26, 32.60s\u001B[A\n",
      "| train_loss: 8.33e-01 | test_loss: 3.02e+00 | reg: 1.93e+02 | :  55%|▌| 55/100 [29:46<24:26, 32.60s\u001B[A\n",
      "| train_loss: 8.33e-01 | test_loss: 3.02e+00 | reg: 1.93e+02 | :  56%|▌| 56/100 [30:18<23:41, 32.31s\u001B[A\n",
      "| train_loss: 2.67e+00 | test_loss: 8.33e-01 | reg: 2.10e+02 | :  56%|▌| 56/100 [30:18<23:41, 32.31s\u001B[A\n",
      "| train_loss: 2.67e+00 | test_loss: 8.33e-01 | reg: 2.10e+02 | :  57%|▌| 57/100 [30:50<23:08, 32.28s\u001B[A\n",
      "| train_loss: 8.33e-01 | test_loss: 8.33e-01 | reg: 3.20e+02 | :  57%|▌| 57/100 [30:50<23:08, 32.28s\u001B[A\n",
      "| train_loss: 8.33e-01 | test_loss: 8.33e-01 | reg: 3.20e+02 | :  58%|▌| 58/100 [31:22<22:29, 32.13s\u001B[A\n",
      "| train_loss: 8.33e-01 | test_loss: 8.33e-01 | reg: 4.87e+02 | :  58%|▌| 58/100 [31:22<22:29, 32.13s\u001B[A\n",
      "| train_loss: 8.33e-01 | test_loss: 8.33e-01 | reg: 4.87e+02 | :  59%|▌| 59/100 [31:53<21:50, 31.95s\u001B[A\n",
      "| train_loss: 8.33e-01 | test_loss: 8.33e-01 | reg: 6.28e+02 | :  59%|▌| 59/100 [31:54<21:50, 31.95s\u001B[A\n",
      "| train_loss: 8.33e-01 | test_loss: 8.33e-01 | reg: 6.28e+02 | :  60%|▌| 60/100 [32:25<21:13, 31.83s\u001B[A\n",
      "| train_loss: 8.33e-01 | test_loss: 8.33e-01 | reg: 7.27e+02 | :  60%|▌| 60/100 [32:25<21:13, 31.83s\u001B[A\n",
      "| train_loss: 8.33e-01 | test_loss: 8.33e-01 | reg: 7.27e+02 | :  61%|▌| 61/100 [33:14<24:01, 36.97s\u001B[A\n",
      "| train_loss: 8.33e-01 | test_loss: 8.33e-01 | reg: 7.79e+02 | :  61%|▌| 61/100 [33:14<24:01, 36.97s\u001B[A\n",
      "| train_loss: 8.33e-01 | test_loss: 8.33e-01 | reg: 7.79e+02 | :  62%|▌| 62/100 [33:46<22:25, 35.40s\u001B[A\n",
      "| train_loss: 8.33e-01 | test_loss: 8.33e-01 | reg: 7.83e+02 | :  62%|▌| 62/100 [33:46<22:25, 35.40s\u001B[A\n",
      "| train_loss: 8.33e-01 | test_loss: 8.33e-01 | reg: 7.83e+02 | :  63%|▋| 63/100 [34:17<21:09, 34.32s\u001B[A\n",
      "| train_loss: 8.33e-01 | test_loss: 8.33e-01 | reg: 7.47e+02 | :  63%|▋| 63/100 [34:18<21:09, 34.32s\u001B[A\n",
      "| train_loss: 8.33e-01 | test_loss: 8.33e-01 | reg: 7.47e+02 | :  64%|▋| 64/100 [34:50<20:12, 33.69s\u001B[A\n",
      "| train_loss: 8.33e-01 | test_loss: 8.33e-01 | reg: 6.94e+02 | :  64%|▋| 64/100 [34:50<20:12, 33.69s\u001B[A\n",
      "| train_loss: 8.33e-01 | test_loss: 8.33e-01 | reg: 6.94e+02 | :  65%|▋| 65/100 [35:21<19:16, 33.04s\u001B[A\n",
      "| train_loss: 8.33e-01 | test_loss: 8.33e-01 | reg: 6.48e+02 | :  65%|▋| 65/100 [35:21<19:16, 33.04s\u001B[A\n",
      "| train_loss: 8.33e-01 | test_loss: 8.33e-01 | reg: 6.48e+02 | :  66%|▋| 66/100 [35:54<18:39, 32.93s\u001B[A\n",
      "| train_loss: 8.33e-01 | test_loss: 8.33e-01 | reg: 5.98e+02 | :  66%|▋| 66/100 [35:54<18:39, 32.93s\u001B[A\n",
      "| train_loss: 8.33e-01 | test_loss: 8.33e-01 | reg: 5.98e+02 | :  67%|▋| 67/100 [36:28<18:16, 33.24s\u001B[A\n",
      "| train_loss: 8.33e-01 | test_loss: 8.33e-01 | reg: 5.48e+02 | :  67%|▋| 67/100 [36:28<18:16, 33.24s\u001B[A\n",
      "| train_loss: 8.33e-01 | test_loss: 8.33e-01 | reg: 5.48e+02 | :  68%|▋| 68/100 [37:02<17:48, 33.40s\u001B[A\n",
      "| train_loss: 8.33e-01 | test_loss: 8.33e-01 | reg: 5.02e+02 | :  68%|▋| 68/100 [37:02<17:48, 33.40s\u001B[A\n",
      "| train_loss: 8.33e-01 | test_loss: 8.33e-01 | reg: 5.02e+02 | :  69%|▋| 69/100 [37:34<17:04, 33.05s\u001B[A\n",
      "| train_loss: 8.33e-01 | test_loss: 8.33e-01 | reg: 4.77e+02 | :  69%|▋| 69/100 [37:34<17:04, 33.05s\u001B[A\n",
      "| train_loss: 8.33e-01 | test_loss: 8.33e-01 | reg: 4.77e+02 | :  70%|▋| 70/100 [38:05<16:16, 32.56s\u001B[A\n",
      "| train_loss: 8.33e-01 | test_loss: 8.33e-01 | reg: 4.82e+02 | :  70%|▋| 70/100 [38:05<16:16, 32.56s\u001B[A\n",
      "| train_loss: 8.33e-01 | test_loss: 8.33e-01 | reg: 4.82e+02 | :  71%|▋| 71/100 [38:37<15:34, 32.21s\u001B[A\n",
      "| train_loss: 8.33e-01 | test_loss: 8.33e-01 | reg: 4.94e+02 | :  71%|▋| 71/100 [38:37<15:34, 32.21s\u001B[A\n",
      "| train_loss: 8.33e-01 | test_loss: 8.33e-01 | reg: 4.94e+02 | :  72%|▋| 72/100 [39:09<15:00, 32.16s\u001B[A\n",
      "| train_loss: 8.33e-01 | test_loss: 8.33e-01 | reg: 4.96e+02 | :  72%|▋| 72/100 [39:09<15:00, 32.16s\u001B[A\n",
      "| train_loss: 8.33e-01 | test_loss: 8.33e-01 | reg: 4.96e+02 | :  73%|▋| 73/100 [39:40<14:24, 32.01s\u001B[A\n",
      "| train_loss: 8.33e-01 | test_loss: 8.33e-01 | reg: 4.95e+02 | :  73%|▋| 73/100 [39:41<14:24, 32.01s\u001B[A\n",
      "| train_loss: 8.33e-01 | test_loss: 8.33e-01 | reg: 4.95e+02 | :  74%|▋| 74/100 [40:12<13:49, 31.91s\u001B[A\n",
      "| train_loss: 8.33e-01 | test_loss: 8.33e-01 | reg: 4.84e+02 | :  74%|▋| 74/100 [40:12<13:49, 31.91s\u001B[A\n",
      "| train_loss: 8.33e-01 | test_loss: 8.33e-01 | reg: 4.84e+02 | :  75%|▊| 75/100 [40:44<13:18, 31.92s\u001B[A\n",
      "| train_loss: 8.33e-01 | test_loss: 8.33e-01 | reg: 4.53e+02 | :  75%|▊| 75/100 [40:44<13:18, 31.92s\u001B[A\n",
      "| train_loss: 8.33e-01 | test_loss: 8.33e-01 | reg: 4.53e+02 | :  76%|▊| 76/100 [41:15<12:43, 31.80s\u001B[A\n",
      "| train_loss: 8.33e-01 | test_loss: 8.33e-01 | reg: 4.58e+02 | :  76%|▊| 76/100 [41:16<12:43, 31.80s\u001B[A\n",
      "| train_loss: 8.33e-01 | test_loss: 8.33e-01 | reg: 4.58e+02 | :  77%|▊| 77/100 [42:08<14:33, 37.98s\u001B[A\n",
      "| train_loss: 8.33e-01 | test_loss: 8.33e-01 | reg: 4.42e+02 | :  77%|▊| 77/100 [42:08<14:33, 37.98s\u001B[A\n",
      "| train_loss: 8.33e-01 | test_loss: 8.33e-01 | reg: 4.42e+02 | :  78%|▊| 78/100 [42:40<13:14, 36.09s\u001B[A\n",
      "| train_loss: 8.33e-01 | test_loss: 8.33e-01 | reg: 4.25e+02 | :  78%|▊| 78/100 [42:40<13:14, 36.09s\u001B[A\n",
      "| train_loss: 8.33e-01 | test_loss: 8.33e-01 | reg: 4.25e+02 | :  79%|▊| 79/100 [43:13<12:21, 35.31s\u001B[A\n",
      "| train_loss: 8.33e-01 | test_loss: 8.33e-01 | reg: 4.15e+02 | :  79%|▊| 79/100 [43:13<12:21, 35.31s\u001B[A\n",
      "| train_loss: 8.33e-01 | test_loss: 8.33e-01 | reg: 4.15e+02 | :  80%|▊| 80/100 [43:47<11:36, 34.81s\u001B[A\n",
      "| train_loss: 8.33e-01 | test_loss: 8.33e-01 | reg: 3.95e+02 | :  80%|▊| 80/100 [43:47<11:36, 34.81s\u001B[A\n",
      "| train_loss: 8.33e-01 | test_loss: 8.33e-01 | reg: 3.95e+02 | :  81%|▊| 81/100 [44:19<10:46, 34.04s\u001B[A\n",
      "| train_loss: 8.33e-01 | test_loss: 8.33e-01 | reg: 3.85e+02 | :  81%|▊| 81/100 [44:19<10:46, 34.04s\u001B[A\n",
      "| train_loss: 8.33e-01 | test_loss: 8.33e-01 | reg: 3.85e+02 | :  82%|▊| 82/100 [44:51<10:03, 33.51s\u001B[A\n",
      "| train_loss: 8.33e-01 | test_loss: 8.33e-01 | reg: 3.85e+02 | :  82%|▊| 82/100 [44:51<10:03, 33.51s\u001B[A\n",
      "| train_loss: 8.33e-01 | test_loss: 8.33e-01 | reg: 3.85e+02 | :  83%|▊| 83/100 [45:23<09:21, 33.05s\u001B[A\n",
      "| train_loss: 8.33e-01 | test_loss: 8.33e-01 | reg: 3.78e+02 | :  83%|▊| 83/100 [45:23<09:21, 33.05s\u001B[A\n",
      "| train_loss: 8.33e-01 | test_loss: 8.33e-01 | reg: 3.78e+02 | :  84%|▊| 84/100 [45:55<08:43, 32.74s\u001B[A\n",
      "| train_loss: 8.33e-01 | test_loss: 8.33e-01 | reg: 3.83e+02 | :  84%|▊| 84/100 [45:55<08:43, 32.74s\u001B[A\n",
      "| train_loss: 8.33e-01 | test_loss: 8.33e-01 | reg: 3.83e+02 | :  85%|▊| 85/100 [46:29<08:14, 32.94s\u001B[A\n",
      "| train_loss: 8.33e-01 | test_loss: 8.33e-01 | reg: 3.63e+02 | :  85%|▊| 85/100 [46:29<08:14, 32.94s\u001B[A\n",
      "| train_loss: 8.33e-01 | test_loss: 8.33e-01 | reg: 3.63e+02 | :  86%|▊| 86/100 [47:01<07:39, 32.84s\u001B[A\n",
      "| train_loss: 8.33e-01 | test_loss: 8.33e-01 | reg: 3.35e+02 | :  86%|▊| 86/100 [47:01<07:39, 32.84s\u001B[A\n",
      "| train_loss: 8.33e-01 | test_loss: 8.33e-01 | reg: 3.35e+02 | :  87%|▊| 87/100 [47:35<07:11, 33.16s\u001B[A\n",
      "| train_loss: 8.33e-01 | test_loss: 8.33e-01 | reg: 3.16e+02 | :  87%|▊| 87/100 [47:35<07:11, 33.16s\u001B[A\n",
      "| train_loss: 8.33e-01 | test_loss: 8.33e-01 | reg: 3.16e+02 | :  88%|▉| 88/100 [48:10<06:44, 33.67s\u001B[A\n",
      "| train_loss: 8.33e-01 | test_loss: 8.33e-01 | reg: 3.25e+02 | :  88%|▉| 88/100 [48:10<06:44, 33.67s\u001B[A\n",
      "| train_loss: 8.33e-01 | test_loss: 8.33e-01 | reg: 3.25e+02 | :  89%|▉| 89/100 [48:45<06:14, 34.05s\u001B[A\n",
      "| train_loss: 8.33e-01 | test_loss: 8.33e-01 | reg: 3.43e+02 | :  89%|▉| 89/100 [48:45<06:14, 34.05s\u001B[A\n",
      "| train_loss: 8.33e-01 | test_loss: 8.33e-01 | reg: 3.43e+02 | :  90%|▉| 90/100 [49:18<05:38, 33.80s\u001B[A\n",
      "| train_loss: 8.33e-01 | test_loss: 8.33e-01 | reg: 3.27e+02 | :  90%|▉| 90/100 [49:18<05:38, 33.80s\u001B[A\n",
      "| train_loss: 8.33e-01 | test_loss: 8.33e-01 | reg: 3.27e+02 | :  91%|▉| 91/100 [49:51<05:00, 33.40s\u001B[A\n",
      "| train_loss: 8.33e-01 | test_loss: 8.33e-01 | reg: 3.20e+02 | :  91%|▉| 91/100 [49:51<05:00, 33.40s\u001B[A\n",
      "| train_loss: 8.33e-01 | test_loss: 8.33e-01 | reg: 3.20e+02 | :  92%|▉| 92/100 [50:23<04:25, 33.15s\u001B[A\n",
      "| train_loss: 8.33e-01 | test_loss: 8.33e-01 | reg: 3.17e+02 | :  92%|▉| 92/100 [50:23<04:25, 33.15s\u001B[A\n",
      "| train_loss: 8.33e-01 | test_loss: 8.33e-01 | reg: 3.17e+02 | :  93%|▉| 93/100 [50:57<03:52, 33.25s\u001B[A\n",
      "| train_loss: 8.33e-01 | test_loss: 8.33e-01 | reg: 3.21e+02 | :  93%|▉| 93/100 [50:57<03:52, 33.25s\u001B[A\n",
      "| train_loss: 8.33e-01 | test_loss: 8.33e-01 | reg: 3.21e+02 | :  94%|▉| 94/100 [51:30<03:19, 33.20s\u001B[A\n",
      "| train_loss: 8.33e-01 | test_loss: 8.33e-01 | reg: 3.15e+02 | :  94%|▉| 94/100 [51:30<03:19, 33.20s\u001B[A\n",
      "| train_loss: 8.33e-01 | test_loss: 8.33e-01 | reg: 3.15e+02 | :  95%|▉| 95/100 [52:03<02:46, 33.22s\u001B[A\n",
      "| train_loss: 8.33e-01 | test_loss: 8.33e-01 | reg: 3.07e+02 | :  95%|▉| 95/100 [52:03<02:46, 33.22s\u001B[A\n",
      "| train_loss: 8.33e-01 | test_loss: 8.33e-01 | reg: 3.07e+02 | :  96%|▉| 96/100 [53:03<02:44, 41.15s\u001B[A\n",
      "| train_loss: 8.33e-01 | test_loss: 8.33e-01 | reg: 3.13e+02 | :  96%|▉| 96/100 [53:03<02:44, 41.15s\u001B[A\n",
      "| train_loss: 8.33e-01 | test_loss: 8.33e-01 | reg: 3.13e+02 | :  97%|▉| 97/100 [53:36<01:56, 38.69s\u001B[A\n",
      "| train_loss: 8.33e-01 | test_loss: 8.33e-01 | reg: 3.22e+02 | :  97%|▉| 97/100 [53:36<01:56, 38.69s\u001B[A\n",
      "| train_loss: 8.33e-01 | test_loss: 8.33e-01 | reg: 3.22e+02 | :  98%|▉| 98/100 [54:10<01:15, 37.53s\u001B[A\n",
      "| train_loss: 8.33e-01 | test_loss: 8.33e-01 | reg: 3.29e+02 | :  98%|▉| 98/100 [54:11<01:15, 37.53s\u001B[A\n",
      "| train_loss: 8.33e-01 | test_loss: 8.33e-01 | reg: 3.29e+02 | :  99%|▉| 99/100 [54:45<00:36, 36.59s\u001B[A\n",
      "| train_loss: 8.33e-01 | test_loss: 8.33e-01 | reg: 3.23e+02 | :  99%|▉| 99/100 [54:45<00:36, 36.59s\u001B[A\n",
      "| train_loss: 8.33e-01 | test_loss: 8.33e-01 | reg: 3.23e+02 | : 100%|█| 100/100 [55:20<00:00, 33.20\u001B[A"
     ]
    },
    {
     "name": "stdout",
     "output_type": "stream",
     "text": [
      "saving model version 0.1\n"
     ]
    },
    {
     "name": "stderr",
     "output_type": "stream",
     "text": [
      "\n"
     ]
    }
   ],
   "source": [
    "all_train_acc = []\n",
    "all_valid_acc = []\n",
    "def train_acc():\n",
    "    train_acc = torch.mean((torch.argmax(model(train_ds['train_input']), dim=1) == train_ds['train_label']).float())\n",
    "    all_train_acc.append(train_acc.item())\n",
    "    return train_acc\n",
    "\n",
    "def test_acc():\n",
    "    valid_acc = torch.mean((torch.argmax(model(test_ds['test_input']), dim=1) == test_ds['test_label']).float())\n",
    "    all_valid_acc.append(valid_acc.item())\n",
    "    return valid_acc\n",
    "\n",
    "results = model.fit(train_ds, opt=\"Adam\", metrics=(train_acc, test_acc),\n",
    "                      loss_fn=torch.nn.CrossEntropyLoss(), steps=100, lamb=0.01, lamb_entropy=10., save_fig=True, img_folder=image_folder)"
   ],
   "metadata": {
    "collapsed": false,
    "ExecuteTime": {
     "end_time": "2024-11-17T00:04:42.482195Z",
     "start_time": "2024-11-16T23:09:22.401365Z"
    }
   },
   "id": "591f82375c29f825",
   "execution_count": 132
  },
  {
   "cell_type": "code",
   "outputs": [
    {
     "data": {
      "text/plain": "<Figure size 800x400 with 1 Axes>",
      "image/png": "[encoded data removed]"
     },
     "metadata": {},
     "output_type": "display_data"
    }
   ],
   "source": [
    "import numpy as np\n",
    "import matplotlib.pyplot as plt\n",
    "plt.figure(figsize=(8, 4))\n",
    "plt.plot(range(len(all_train_acc)), all_train_acc, marker='o', label='train')\n",
    "plt.plot(range(len(all_valid_acc)), all_valid_acc, marker='o', label='val')\n",
    "plt.xlabel('epoch')\n",
    "plt.ylabel('accuracy')\n",
    "plt.title('Training vs. Validation acc')\n",
    "plt.grid(True)\n",
    "plt.legend()\n",
    "plt.show()"
   ],
   "metadata": {
    "collapsed": false,
    "ExecuteTime": {
     "end_time": "2024-11-17T00:46:52.066196Z",
     "start_time": "2024-11-17T00:46:51.980642Z"
    }
   },
   "id": "5f13f2436e2976f",
   "execution_count": 136
  },
  {
   "cell_type": "code",
   "outputs": [],
   "source": [],
   "metadata": {
    "collapsed": false
   },
   "id": "7f55622a5c94c0f4"
  }
 ],
 "metadata": {
  "kernelspec": {
   "display_name": "Python 3",
   "language": "python",
   "name": "python3"
  },
  "language_info": {
   "codemirror_mode": {
    "name": "ipython",
    "version": 2
   },
   "file_extension": ".py",
   "mimetype": "text/x-python",
   "name": "python",
   "nbconvert_exporter": "python",
   "pygments_lexer": "ipython2",
   "version": "2.7.6"
  }
 },
 "nbformat": 4,
 "nbformat_minor": 5
}
