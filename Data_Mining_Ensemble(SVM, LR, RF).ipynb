{
  "nbformat": 4,
  "nbformat_minor": 0,
  "metadata": {
    "colab": {
      "provenance": []
    },
    "kernelspec": {
      "name": "python3",
      "display_name": "Python 3"
    },
    "language_info": {
      "name": "python"
    }
  },
  "cells": [
    {
      "cell_type": "code",
      "execution_count": 4,
      "metadata": {
        "colab": {
          "base_uri": "https://localhost:8080/"
        },
        "id": "l0sD6vc62bw8",
        "outputId": "90adb7f4-e791-4b0c-f625-05c556c9710f"
      },
      "outputs": [
        {
          "output_type": "stream",
          "name": "stdout",
          "text": [
            "Training data shape: (3630, 252)\n"
          ]
        }
      ],
      "source": [
        "import pandas as pd\n",
        "import numpy as np\n",
        "df = pd.read_csv(\"/content/df_one_hot_encoded_normalized.csv\")\n",
        "train_data = df[(df['Target']== '0') | (df['Target']== '1')] # Training data (rows labeled 0 and 1)\n",
        "\n",
        "X = train_data.drop(columns=['Target'])\n",
        "y = train_data['Target'].astype(int)\n",
        "\n",
        "print(\"Training data shape:\", X.shape)"
      ]
    },
    {
      "cell_type": "code",
      "source": [
        "from sklearn.ensemble import VotingClassifier\n",
        "from sklearn.linear_model import LogisticRegression\n",
        "from sklearn.svm import SVC\n",
        "from sklearn.ensemble import RandomForestClassifier\n",
        "from sklearn.model_selection import train_test_split\n",
        "from sklearn.metrics import accuracy_score, classification_report\n",
        "X_train, X_test, y_train, y_test = train_test_split(X, y, test_size=0.2, random_state=42)\n",
        "\n",
        "logistic_model = LogisticRegression(max_iter=1000, random_state=42)\n",
        "svm_model = SVC(C= 100, gamma =1, kernel = 'linear', probability=True, random_state=42)\n",
        "rf_model = RandomForestClassifier(n_estimators=100, random_state=42)\n",
        "\n",
        "voting_model = VotingClassifier(estimators=[\n",
        "    ('logistic', logistic_model),\n",
        "    ('svm', svm_model),\n",
        "    ('random_forest', rf_model)\n",
        "], voting='soft')  # 'soft' uses predicted probabilities for better performance\n",
        "\n",
        "voting_model.fit(X_train, y_train)\n",
        "\n",
        "y_pred_voting = voting_model.predict(X_test)\n",
        "\n",
        "print(\"Voting Classifier Accuracy:\", accuracy_score(y_test, y_pred_voting))\n",
        "print(\"\\nClassification Report:\\n\", classification_report(y_test, y_pred_voting))\n"
      ],
      "metadata": {
        "colab": {
          "base_uri": "https://localhost:8080/"
        },
        "id": "Vk9Wo2B82kff",
        "outputId": "a85e4764-d432-4fe7-b947-a8210b3e8494"
      },
      "execution_count": 5,
      "outputs": [
        {
          "output_type": "stream",
          "name": "stdout",
          "text": [
            "Voting Classifier Accuracy: 0.8898071625344353\n",
            "\n",
            "Classification Report:\n",
            "               precision    recall  f1-score   support\n",
            "\n",
            "           0       0.88      0.95      0.91       449\n",
            "           1       0.91      0.79      0.85       277\n",
            "\n",
            "    accuracy                           0.89       726\n",
            "   macro avg       0.89      0.87      0.88       726\n",
            "weighted avg       0.89      0.89      0.89       726\n",
            "\n"
          ]
        }
      ]
    },
    {
      "cell_type": "code",
      "source": [
        "from sklearn.model_selection import cross_val_score\n",
        "cv_scores = cross_val_score(voting_model, X, y, cv=10, scoring='accuracy')\n",
        "\n",
        "# Print the results\n",
        "print(\"Cross-Validation Scores:\", cv_scores)\n",
        "print(\"Mean Accuracy:\", cv_scores.mean())\n",
        "print(\"Standard Deviation:\", cv_scores.std())"
      ],
      "metadata": {
        "id": "mNeEfPxi3Kph",
        "colab": {
          "base_uri": "https://localhost:8080/"
        },
        "outputId": "23a9f043-a8bf-45d8-9fa5-48e658a17a00"
      },
      "execution_count": 6,
      "outputs": [
        {
          "output_type": "stream",
          "name": "stdout",
          "text": [
            "Cross-Validation Scores: [0.90082645 0.91735537 0.89807163 0.90358127 0.92286501 0.89256198\n",
            " 0.87327824 0.92837466 0.88429752 0.90909091]\n",
            "Mean Accuracy: 0.903030303030303\n",
            "Standard Deviation: 0.01628842479239061\n"
          ]
        }
      ]
    }
  ]
}
