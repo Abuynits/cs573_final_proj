{
  "nbformat": 4,
  "nbformat_minor": 0,
  "metadata": {
    "colab": {
      "provenance": []
    },
    "kernelspec": {
      "name": "python3",
      "display_name": "Python 3"
    },
    "language_info": {
      "name": "python"
    }
  },
  "cells": [
    {
      "cell_type": "code",
      "execution_count": 17,
      "metadata": {
        "colab": {
          "base_uri": "https://localhost:8080/"
        },
        "id": "fkfVHF9UqK0l",
        "outputId": "25f08837-f0fd-4700-dc73-81f6954328c4"
      },
      "outputs": [
        {
          "output_type": "stream",
          "name": "stdout",
          "text": [
            "Training data shape: (3630, 252)\n"
          ]
        }
      ],
      "source": [
        "import pandas as pd\n",
        "import numpy as np\n",
        "df = pd.read_csv(\"/content/df_one_hot_encoded_normalized.csv\")\n",
        "train_data = df[(df['Target']== '0') | (df['Target']== '1')] # Training data (rows labeled 0 and 1)\n",
        "\n",
        "X = train_data.drop(columns=['Target'])\n",
        "y = train_data['Target'].astype(int)\n",
        "\n",
        "print(\"Training data shape:\", X.shape)"
      ]
    },
    {
      "cell_type": "code",
      "source": [
        "import pandas as pd\n",
        "print(y_test.dtypes)\n"
      ],
      "metadata": {
        "colab": {
          "base_uri": "https://localhost:8080/"
        },
        "id": "nWfHi_BQ1HIA",
        "outputId": "056d8342-2355-48c0-cf3f-d1fc87e2b078"
      },
      "execution_count": 18,
      "outputs": [
        {
          "output_type": "stream",
          "name": "stdout",
          "text": [
            "object\n"
          ]
        }
      ]
    },
    {
      "cell_type": "code",
      "source": [
        "from sklearn.linear_model import LogisticRegression\n",
        "from sklearn.model_selection import train_test_split\n",
        "from sklearn.metrics import classification_report, confusion_matrix, accuracy_score\n",
        "\n",
        "X_train, X_test, y_train, y_test = train_test_split(X, y, test_size=0.2, random_state=42)\n",
        "\n",
        "logistic_model = LogisticRegression(max_iter=1000, random_state=42)\n",
        "logistic_model.fit(X_train, y_train)\n",
        "\n",
        "y_pred = logistic_model.predict(X_test)\n",
        "\n",
        "print(\"Confusion Matrix:\\n\", confusion_matrix(y_test, y_pred))\n",
        "print(\"\\nClassification Report:\\n\", classification_report(y_test, y_pred))\n",
        "print(\"\\nAccuracy:\", accuracy_score(y_test, y_pred))\n"
      ],
      "metadata": {
        "colab": {
          "base_uri": "https://localhost:8080/"
        },
        "id": "XV4QGicRrOFz",
        "outputId": "e7938b28-90e8-43f6-8b33-3de2d94367d9"
      },
      "execution_count": 19,
      "outputs": [
        {
          "output_type": "stream",
          "name": "stdout",
          "text": [
            "Confusion Matrix:\n",
            " [[398  51]\n",
            " [ 88 189]]\n",
            "\n",
            "Classification Report:\n",
            "               precision    recall  f1-score   support\n",
            "\n",
            "           0       0.82      0.89      0.85       449\n",
            "           1       0.79      0.68      0.73       277\n",
            "\n",
            "    accuracy                           0.81       726\n",
            "   macro avg       0.80      0.78      0.79       726\n",
            "weighted avg       0.81      0.81      0.81       726\n",
            "\n",
            "\n",
            "Accuracy: 0.8085399449035813\n"
          ]
        }
      ]
    },
    {
      "cell_type": "code",
      "source": [
        "coefficients = logistic_model.coef_[0]\n",
        "feature_names = X.columns\n",
        "\n",
        "coef_df = pd.DataFrame({'Feature': feature_names, 'Coefficient': coefficients})\n",
        "\n",
        "coef_df['AbsCoefficient'] = coef_df['Coefficient'].abs()\n",
        "coef_df = coef_df.sort_values(by='AbsCoefficient', ascending=False)\n",
        "\n",
        "print(coef_df)\n"
      ],
      "metadata": {
        "colab": {
          "base_uri": "https://localhost:8080/"
        },
        "id": "OVLiHPbIrU0m",
        "outputId": "6aa802b2-0601-4761-9f72-fffbec2cee3c"
      },
      "execution_count": 20,
      "outputs": [
        {
          "output_type": "stream",
          "name": "stdout",
          "text": [
            "                                 Feature  Coefficient  AbsCoefficient\n",
            "1         Previous qualification (grade)     6.369539        6.369539\n",
            "14      Curricular units 2nd sem (grade)    -4.835104        4.835104\n",
            "2                        Admission grade     4.250768        4.250768\n",
            "8       Curricular units 1st sem (grade)    -3.241842        3.241842\n",
            "13   Curricular units 2nd sem (approved)    -3.120617        3.120617\n",
            "..                                   ...          ...             ...\n",
            "224              Father's occupation_121     0.000000        0.000000\n",
            "220              Father's occupation_102     0.000000        0.000000\n",
            "168             Previous qualification_5     0.000000        0.000000\n",
            "195                       Nacionality_32     0.000000        0.000000\n",
            "230              Father's occupation_134     0.000000        0.000000\n",
            "\n",
            "[252 rows x 3 columns]\n"
          ]
        }
      ]
    },
    {
      "cell_type": "code",
      "source": [
        "from sklearn.metrics import roc_curve, auc\n",
        "from matplotlib import pyplot as plt\n",
        "\n",
        "y_prob = logistic_model.predict_proba(X_test)[:, 1]\n",
        "print(y_test.values, y_prob)\n"
      ],
      "metadata": {
        "colab": {
          "base_uri": "https://localhost:8080/"
        },
        "id": "A3egYgtaregp",
        "outputId": "943bb495-7562-4573-860c-26b9b8ce10aa"
      },
      "execution_count": 21,
      "outputs": [
        {
          "output_type": "stream",
          "name": "stdout",
          "text": [
            "[0 1 1 0 1 0 1 0 1 1 1 0 0 0 0 1 1 1 0 0 1 1 0 0 1 1 0 0 0 1 1 0 0 0 0 0 1\n",
            " 1 1 0 1 0 1 0 1 0 1 0 1 0 1 0 0 0 1 0 1 1 0 1 1 0 1 0 0 1 1 0 0 1 0 0 1 1\n",
            " 0 0 1 0 0 1 1 0 0 0 1 0 0 1 0 0 0 0 1 1 0 0 1 0 0 0 0 0 1 1 0 0 0 0 1 1 0\n",
            " 0 0 1 1 1 1 0 0 1 1 0 0 1 1 0 1 0 0 1 1 1 0 0 0 0 1 0 0 1 0 0 0 1 0 1 1 1\n",
            " 0 1 0 1 1 1 0 1 0 1 1 1 0 0 1 1 0 0 0 1 1 0 0 0 0 0 0 0 0 1 0 0 0 1 1 0 0\n",
            " 1 0 0 0 1 1 1 1 0 1 0 0 0 1 1 0 1 1 1 0 1 1 1 0 1 0 0 0 0 0 1 0 1 1 1 0 0\n",
            " 0 0 1 0 0 0 0 0 1 0 0 0 1 0 1 1 1 0 0 1 0 1 0 0 0 0 0 0 0 1 1 0 1 0 0 1 0\n",
            " 0 1 0 0 0 1 0 0 1 0 0 0 0 0 0 0 1 1 1 0 1 0 0 0 1 0 1 0 1 0 0 0 0 0 0 0 0\n",
            " 0 1 0 0 1 1 0 0 0 1 0 0 1 1 0 0 0 1 0 1 0 0 0 0 0 0 1 0 1 0 0 0 1 0 1 0 1\n",
            " 0 0 1 0 0 1 1 0 0 1 1 0 1 0 1 1 1 0 1 0 0 0 1 1 0 0 0 0 0 0 1 0 1 1 0 1 0\n",
            " 0 0 0 1 0 1 0 0 0 1 1 0 1 0 1 0 1 1 0 1 0 0 1 1 0 1 1 1 0 0 0 0 0 1 0 0 0\n",
            " 0 0 1 0 0 0 0 0 1 0 1 0 1 1 0 1 0 0 1 0 0 0 0 0 0 0 0 0 0 1 1 1 0 0 0 0 1\n",
            " 0 0 1 0 0 0 0 0 0 1 1 1 0 0 1 1 1 0 1 0 0 0 1 0 1 0 0 1 1 0 0 1 0 0 0 0 0\n",
            " 0 0 0 0 1 0 1 0 0 0 0 1 1 0 0 0 1 0 0 0 0 0 0 0 0 1 0 1 0 0 1 0 0 0 1 0 1\n",
            " 0 0 1 0 0 0 0 1 0 0 1 0 0 0 1 0 0 1 0 0 0 0 0 1 1 0 0 0 0 1 1 1 1 0 0 0 0\n",
            " 1 1 0 0 1 1 0 0 1 0 0 0 1 1 1 0 0 0 1 1 0 0 1 1 1 0 1 1 1 0 0 0 0 0 0 0 0\n",
            " 0 0 0 0 1 0 0 1 0 0 0 1 0 1 1 1 1 0 1 0 0 1 0 0 0 1 1 0 0 1 0 0 0 0 0 1 1\n",
            " 1 1 0 0 0 0 0 1 1 0 1 0 1 1 0 1 0 0 1 1 0 0 0 1 0 0 1 1 0 1 0 0 0 0 0 0 0\n",
            " 0 0 0 1 1 1 1 0 1 0 1 1 0 0 0 0 1 0 1 0 0 0 1 0 1 0 0 1 1 1 0 0 0 1 1 0 0\n",
            " 0 1 0 0 0 0 1 0 0 0 1 1 1 0 0 0 0 0 0 0 0 0 1] [0.40141999 0.90855103 0.20395235 0.08898335 0.83683205 0.16986478\n",
            " 0.46516257 0.23026934 0.85049541 0.95864479 0.42140875 0.03726962\n",
            " 0.33099055 0.03032651 0.40291272 0.87797603 0.46200284 0.84067199\n",
            " 0.11400518 0.33698821 0.5455012  0.92799858 0.22808598 0.14484245\n",
            " 0.99656982 0.516039   0.0303443  0.15239036 0.55347441 0.7143628\n",
            " 0.70012357 0.30325075 0.06895543 0.16252231 0.2419316  0.09981879\n",
            " 0.97847086 0.95449825 0.99137592 0.29508095 0.90942373 0.03733835\n",
            " 0.96490557 0.89174239 0.98897108 0.14984851 0.66240717 0.13086302\n",
            " 0.59301161 0.19165091 0.73929691 0.17056356 0.10995305 0.19021244\n",
            " 0.93638722 0.258565   0.37584964 0.61684571 0.64500936 0.94987152\n",
            " 0.97537645 0.19474356 0.04317973 0.02786498 0.09887202 0.35085235\n",
            " 0.83866445 0.14758285 0.54146889 0.99542491 0.52052141 0.18915419\n",
            " 0.53172914 0.9280403  0.09233962 0.22198194 0.52542029 0.08343527\n",
            " 0.22646176 0.52406645 0.3313093  0.2093439  0.25827275 0.08670775\n",
            " 0.27444309 0.30239314 0.5379394  0.9815171  0.37654242 0.3317143\n",
            " 0.09056177 0.09184884 0.99203013 0.96671513 0.30375003 0.17214618\n",
            " 0.99108253 0.04597317 0.52688558 0.40133724 0.2482528  0.09909904\n",
            " 0.59561086 0.39453056 0.02190765 0.14241395 0.20840156 0.10332797\n",
            " 0.64521725 0.29524029 0.67852571 0.2101974  0.13090709 0.98418624\n",
            " 0.77290714 0.39805    0.63621782 0.15516811 0.0543389  0.58299488\n",
            " 0.29966913 0.3074195  0.04504085 0.73772756 0.20253562 0.4615233\n",
            " 0.57253253 0.04366896 0.29174839 0.36454968 0.94206647 0.86469989\n",
            " 0.10088914 0.20982743 0.26210996 0.05775534 0.089473   0.51664396\n",
            " 0.0869267  0.97464396 0.36396451 0.15392708 0.02725479 0.96798258\n",
            " 0.06238037 0.93381736 0.50574116 0.51535042 0.04476591 0.90480813\n",
            " 0.17601911 0.19115754 0.99716429 0.24141198 0.63068204 0.33690439\n",
            " 0.0930341  0.97913977 0.71956194 0.83723568 0.11454571 0.19013003\n",
            " 0.70762718 0.95789338 0.06501054 0.02416286 0.78077717 0.86241893\n",
            " 0.47709835 0.11393997 0.27074046 0.13665872 0.05763472 0.13187486\n",
            " 0.31745589 0.1059756  0.3899487  0.96658191 0.02760127 0.05372521\n",
            " 0.49093911 0.82358578 0.45063956 0.73782426 0.07264917 0.19614975\n",
            " 0.66357369 0.19084902 0.44375242 0.68485843 0.08756984 0.22031164\n",
            " 0.99872348 0.09313629 0.54474114 0.30584201 0.36769126 0.02339869\n",
            " 0.97553241 0.52842548 0.48542053 0.7429358  0.97472415 0.09966583\n",
            " 0.50777215 0.86002508 0.97202169 0.78084604 0.10270796 0.40638678\n",
            " 0.14524722 0.04788093 0.48639367 0.16020863 0.094786   0.18741597\n",
            " 0.18757642 0.96948088 0.36312512 0.35061247 0.02233065 0.05139401\n",
            " 0.2541962  0.03541055 0.79593981 0.08041259 0.35562746 0.07526502\n",
            " 0.3975893  0.40020054 0.88398832 0.09871288 0.3739919  0.6339872\n",
            " 0.20633852 0.07960134 0.66171751 0.91942007 0.96588889 0.13558668\n",
            " 0.15127463 0.2927453  0.38765855 0.59741486 0.18872595 0.03849096\n",
            " 0.69589578 0.17181524 0.3755844  0.29686655 0.05330863 0.22706232\n",
            " 0.26005245 0.09277018 0.29794437 0.16400891 0.03773545 0.43305557\n",
            " 0.12592869 0.37837649 0.99598119 0.19739678 0.10546271 0.52715921\n",
            " 0.60752047 0.63621299 0.05380882 0.12374121 0.53631565 0.14459562\n",
            " 0.46970657 0.25803634 0.15899334 0.38614573 0.26739799 0.95582433\n",
            " 0.11731887 0.63397032 0.2091382  0.86414733 0.03827592 0.18037402\n",
            " 0.16107205 0.94326347 0.14527646 0.97048551 0.09351622 0.64657668\n",
            " 0.61845074 0.20072494 0.42459359 0.23297532 0.28144824 0.28777376\n",
            " 0.07168677 0.16393561 0.74889193 0.52957503 0.11923701 0.26186068\n",
            " 0.11103088 0.30652381 0.11675685 0.26383774 0.1492954  0.9970914\n",
            " 0.53428925 0.14059976 0.97739328 0.97458949 0.09175811 0.0721136\n",
            " 0.04151983 0.99686408 0.2365158  0.43223793 0.04665942 0.04202342\n",
            " 0.42856679 0.08177133 0.04628354 0.06569362 0.96216311 0.5293627\n",
            " 0.39508929 0.53077964 0.05143479 0.34580787 0.98529105 0.16665717\n",
            " 0.30241248 0.05174441 0.0916065  0.49264561 0.25529877 0.92935\n",
            " 0.08632386 0.63707173 0.98772933 0.72552248 0.09111746 0.07892008\n",
            " 0.94393119 0.86097322 0.05673057 0.66807776 0.18475776 0.40268426\n",
            " 0.44168558 0.60626133 0.14461298 0.9615073  0.11881849 0.97588904\n",
            " 0.10560882 0.85470854 0.98450533 0.04594089 0.01521015 0.06077495\n",
            " 0.0424222  0.57759037 0.31906285 0.43876771 0.06616245 0.91302505\n",
            " 0.65098386 0.09711475 0.38587188 0.27507016 0.04564688 0.04987575\n",
            " 0.24375077 0.02544074 0.04759384 0.10799104 0.35250766 0.47020006\n",
            " 0.03996784 0.30432598 0.76334124 0.05694412 0.51503827 0.04929296\n",
            " 0.4240222  0.06702259 0.62001126 0.36266806 0.29540103 0.63698696\n",
            " 0.23978152 0.18078106 0.66749506 0.85604615 0.03814839 0.77968034\n",
            " 0.9881199  0.5737874  0.45396997 0.0354876  0.10695553 0.61610674\n",
            " 0.04515274 0.51923413 0.39840462 0.08540046 0.21580213 0.10575895\n",
            " 0.15003027 0.64988968 0.10058477 0.43093276 0.16959943 0.2702852\n",
            " 0.03252439 0.51839081 0.06041074 0.97567839 0.41157433 0.41721767\n",
            " 0.92952319 0.69759019 0.10296901 0.13673115 0.34324861 0.92075583\n",
            " 0.12232751 0.34427333 0.17560707 0.64166178 0.3814613  0.29887316\n",
            " 0.1125836  0.11246827 0.02987783 0.73570371 0.1023075  0.97652843\n",
            " 0.33751259 0.02777768 0.73572924 0.04547023 0.05839332 0.6433455\n",
            " 0.06607208 0.15084279 0.99319267 0.07455152 0.15438612 0.26428052\n",
            " 0.49997056 0.18357331 0.09133028 0.96043227 0.17918045 0.98139053\n",
            " 0.20398057 0.66279144 0.50062568 0.50137592 0.99254656 0.19556865\n",
            " 0.90352142 0.25859517 0.40614464 0.12478181 0.95346154 0.33554309\n",
            " 0.72349149 0.20849301 0.24169259 0.13296822 0.9934143  0.11611108\n",
            " 0.15472984 0.40808208 0.32308793 0.34855191 0.11012972 0.22230026\n",
            " 0.05150197 0.05665753 0.06401065 0.10657087 0.05444242 0.70389161\n",
            " 0.25524812 0.48968325 0.12916847 0.11222144 0.12537566 0.20539892\n",
            " 0.45937644 0.6360475  0.03867327 0.18294081 0.07492464 0.8123687\n",
            " 0.68881335 0.14590502 0.15287332 0.03166653 0.19821485 0.04235555\n",
            " 0.18716004 0.69037762 0.1365493  0.02798705 0.77808809 0.81542607\n",
            " 0.07588435 0.68576882 0.0375767  0.29573746 0.66335015 0.80299367\n",
            " 0.16348543 0.70918879 0.08551104 0.07780205 0.08866884 0.03515113\n",
            " 0.27663998 0.09673656 0.56839276 0.86405095 0.07936767 0.28294223\n",
            " 0.6068049  0.16537386 0.05276305 0.19657447 0.73100896 0.13392779\n",
            " 0.17092585 0.95857684 0.30878945 0.05385601 0.06728366 0.04987566\n",
            " 0.03170263 0.47197039 0.41988182 0.15514426 0.03168746 0.24737846\n",
            " 0.64009421 0.94706863 0.25155644 0.9975868  0.96199354 0.75040795\n",
            " 0.13657587 0.18779326 0.30240293 0.93013114 0.61596499 0.0252497\n",
            " 0.0830799  0.13442187 0.93807144 0.06514981 0.15272088 0.98864029\n",
            " 0.65398862 0.12599058 0.14135657 0.55821082 0.73043232 0.46970122\n",
            " 0.11492398 0.05007547 0.08808836 0.6453711  0.28985232 0.11386212\n",
            " 0.05588357 0.74933445 0.69926394 0.16762177 0.14961522 0.4584555\n",
            " 0.04009189 0.23532687 0.22619049 0.21112419 0.04557939 0.02174485\n",
            " 0.07356322 0.05336257 0.05129499 0.02273174 0.02927217 0.36025976\n",
            " 0.09996261 0.40380978 0.75860039 0.20161069 0.13690824 0.40897569\n",
            " 0.0985799  0.1990142  0.49190655 0.98930715 0.39562586 0.94447992\n",
            " 0.75857156 0.10445649 0.9296134  0.10962751 0.46464211 0.09986111\n",
            " 0.52609058 0.98012855 0.3492569  0.21287555 0.17519102 0.85252818\n",
            " 0.65606967 0.02708841 0.05594103 0.66513771 0.05032979 0.40324334\n",
            " 0.01815752 0.08528966 0.11141054 0.34740919 0.37854829 0.02406192\n",
            " 0.69820368 0.06365677 0.11393529 0.14035203 0.12886043 0.33309494\n",
            " 0.53720511 0.65099067 0.20595086 0.99719519 0.26465139 0.66950509\n",
            " 0.94134204 0.16029038 0.65020867 0.0414043  0.4085587  0.96184213\n",
            " 0.05117037 0.85274142 0.78625017 0.11981105 0.85727511 0.5231067\n",
            " 0.42191478 0.92159441 0.49318937 0.53389512 0.63175583 0.0141099\n",
            " 0.37928525 0.0524234  0.51269993 0.12305714 0.41469591 0.16114319\n",
            " 0.03947726 0.31936924 0.62905063 0.98750644 0.55000844 0.94193935\n",
            " 0.52772983 0.05546798 0.98932609 0.46581391 0.48312731 0.12395453\n",
            " 0.08225825 0.75420083 0.41506047 0.36390994 0.3716171  0.24841989\n",
            " 0.96963851 0.11534019 0.36518091 0.05539391 0.45936041 0.21319225\n",
            " 0.39785029 0.1098793  0.16719813 0.29534556 0.52463657 0.86566315\n",
            " 0.02817616 0.12327617 0.19470455 0.60578347 0.95478149 0.07590901\n",
            " 0.10174408 0.11089928 0.20739732 0.01755083 0.19981461 0.02591708\n",
            " 0.02266132 0.84470551 0.1533459  0.53471759 0.47767461 0.64687908\n",
            " 0.97038597 0.64837212 0.53779518 0.03953361 0.03496459 0.2171896\n",
            " 0.08781805 0.09462621 0.15970107 0.09454188 0.16541669 0.85581613]\n"
          ]
        }
      ]
    },
    {
      "cell_type": "code",
      "source": [
        "fpr, tpr, thresholds = roc_curve(y_test, y_prob)\n",
        "auc_score = auc(fpr, tpr)\n",
        "\n",
        "plt.figure(figsize=(8, 6))\n",
        "plt.plot(fpr, tpr, label=f'ROC Curve (AUC = {auc_score:.2f})')\n",
        "plt.xlabel('False Positive Rate')\n",
        "plt.ylabel('True Positive Rate')\n",
        "plt.title('Receiver Operating Characteristic (ROC) Curve')\n",
        "plt.legend()\n",
        "plt.grid()\n",
        "plt.show()\n"
      ],
      "metadata": {
        "colab": {
          "base_uri": "https://localhost:8080/",
          "height": 564
        },
        "id": "UdBkjxDTrksa",
        "outputId": "3e17fa6a-ed0b-4852-cc72-9dfc85c796f0"
      },
      "execution_count": 23,
      "outputs": [
        {
          "output_type": "display_data",
          "data": {
            "text/plain": [
              "<Figure size 800x600 with 1 Axes>"
            ],
            "image/png": "[encoded data removed]"
          },
          "metadata": {}
        }
      ]
    },
    {
      "cell_type": "code",
      "source": [],
      "metadata": {
        "id": "wy1AQYPSsYQR"
      },
      "execution_count": null,
      "outputs": []
    }
  ]
}