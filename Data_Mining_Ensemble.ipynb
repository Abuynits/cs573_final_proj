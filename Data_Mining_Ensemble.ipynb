{
  "nbformat": 4,
  "nbformat_minor": 0,
  "metadata": {
    "colab": {
      "provenance": []
    },
    "kernelspec": {
      "name": "python3",
      "display_name": "Python 3"
    },
    "language_info": {
      "name": "python"
    }
  },
  "cells": [
    {
      "cell_type": "code",
      "execution_count": 2,
      "metadata": {
        "colab": {
          "base_uri": "https://localhost:8080/"
        },
        "id": "l0sD6vc62bw8",
        "outputId": "74feaa93-0ebe-4de9-ed54-bac4253947df"
      },
      "outputs": [
        {
          "output_type": "stream",
          "name": "stdout",
          "text": [
            "Training data shape: (3630, 252)\n"
          ]
        }
      ],
      "source": [
        "import pandas as pd\n",
        "import numpy as np\n",
        "df = pd.read_csv(\"/content/df_one_hot_encoded_normalized.csv\")\n",
        "train_data = df[(df['Target']== '0') | (df['Target']== '1')] # Training data (rows labeled 0 and 1)\n",
        "\n",
        "X = train_data.drop(columns=['Target'])\n",
        "y = train_data['Target'].astype(int)\n",
        "\n",
        "print(\"Training data shape:\", X.shape)"
      ]
    },
    {
      "cell_type": "code",
      "source": [
        "from sklearn.ensemble import VotingClassifier\n",
        "from sklearn.linear_model import LogisticRegression\n",
        "from sklearn.svm import SVC\n",
        "from sklearn.ensemble import RandomForestClassifier\n",
        "from sklearn.model_selection import train_test_split\n",
        "from sklearn.metrics import accuracy_score, classification_report\n",
        "X_train, X_test, y_train, y_test = train_test_split(X, y, test_size=0.2, random_state=42)\n",
        "\n",
        "logistic_model = LogisticRegression(max_iter=1000, random_state=42)\n",
        "svm_model = SVC(C= 100, gamma =1, kernel = 'linear', probability=True, random_state=42)\n",
        "rf_model = RandomForestClassifier(n_estimators=100, random_state=42)\n",
        "\n",
        "voting_model = VotingClassifier(estimators=[\n",
        "    ('logistic', logistic_model),\n",
        "    ('svm', svm_model),\n",
        "    ('random_forest', rf_model)\n",
        "], voting='soft')  # 'soft' uses predicted probabilities for better performance\n",
        "\n",
        "voting_model.fit(X_train, y_train)\n",
        "\n",
        "y_pred_voting = voting_model.predict(X_test)\n",
        "\n",
        "print(\"Voting Classifier Accuracy:\", accuracy_score(y_test, y_pred_voting))\n",
        "print(\"\\nClassification Report:\\n\", classification_report(y_test, y_pred_voting))\n"
      ],
      "metadata": {
        "colab": {
          "base_uri": "https://localhost:8080/"
        },
        "id": "Vk9Wo2B82kff",
        "outputId": "9539f6ae-38e2-4622-96e9-76fc42c6f404"
      },
      "execution_count": 3,
      "outputs": [
        {
          "output_type": "stream",
          "name": "stdout",
          "text": [
            "Voting Classifier Accuracy: 0.8898071625344353\n",
            "\n",
            "Classification Report:\n",
            "               precision    recall  f1-score   support\n",
            "\n",
            "           0       0.88      0.95      0.91       449\n",
            "           1       0.91      0.79      0.85       277\n",
            "\n",
            "    accuracy                           0.89       726\n",
            "   macro avg       0.89      0.87      0.88       726\n",
            "weighted avg       0.89      0.89      0.89       726\n",
            "\n"
          ]
        }
      ]
    },
    {
      "cell_type": "code",
      "source": [],
      "metadata": {
        "id": "mNeEfPxi3Kph"
      },
      "execution_count": null,
      "outputs": []
    }
  ]
}