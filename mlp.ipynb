{
 "cells": [
  {
   "cell_type": "code",
   "execution_count": 1,
   "id": "initial_id",
   "metadata": {
    "ExecuteTime": {
     "end_time": "2024-11-21T17:56:02.523918Z",
     "start_time": "2024-11-21T17:55:55.511989Z"
    },
    "collapsed": true
   },
   "outputs": [],
   "source": [
    "import numpy as np\n",
    "import torch\n",
    "import pandas as pd\n",
    "from collections import deque\n",
    "!pip install ucimlrepo  --quiet"
   ]
  },
  {
   "cell_type": "code",
   "execution_count": 2,
   "id": "f7410b1026fb4a61",
   "metadata": {
    "ExecuteTime": {
     "end_time": "2024-11-21T18:05:25.172042Z",
     "start_time": "2024-11-21T18:05:24.161608Z"
    },
    "collapsed": false
   },
   "outputs": [
    {
     "name": "stdout",
     "output_type": "stream",
     "text": [
      "4424 entries with 37 features\n"
     ]
    }
   ],
   "source": [
    "from ucimlrepo import fetch_ucirepo\n",
    "\n",
    "# fetch dataset \n",
    "predict_students_dropout_and_academic_success = fetch_ucirepo(id=697)\n",
    "\n",
    "# data (as pandas dataframes) \n",
    "X = predict_students_dropout_and_academic_success.data.features\n",
    "y = predict_students_dropout_and_academic_success.data.targets\n",
    "# metadata \n",
    "metadata = predict_students_dropout_and_academic_success.metadata\n",
    "\n",
    "# variable information \n",
    "variable_info = predict_students_dropout_and_academic_success.variables\n",
    "\n",
    "df = X\n",
    "df['Target'] = y\n",
    "\n",
    "print(f\"{df.shape[0]} entries with {df.shape[1]} features\")"
   ]
  },
  {
   "cell_type": "code",
   "execution_count": 3,
   "id": "2d73c6ecbf974d5",
   "metadata": {
    "ExecuteTime": {
     "end_time": "2024-11-21T18:05:25.178624Z",
     "start_time": "2024-11-21T18:05:25.174886Z"
    },
    "collapsed": false
   },
   "outputs": [
    {
     "name": "stdout",
     "output_type": "stream",
     "text": [
      "categorical vars 18\n",
      "quantitative vars 19\n"
     ]
    }
   ],
   "source": [
    "categorical_vars = {\n",
    "    'Marital Status',\n",
    "    'Application mode',\n",
    "    'Course',\n",
    "    'Daytime/evening attendance',\n",
    "    'Previous qualification',\n",
    "    'Nacionality',\n",
    "    'Mother\\'s qualification',\n",
    "    'Father\\'s qualification',\n",
    "    'Mother\\'s occupation',\n",
    "    'Father\\'s occupation',\n",
    "    'Displaced', 'Educational special needs', 'Debtor',\n",
    "    'Tuition fees up to date', 'Gender', 'Scholarship holder',\n",
    "    'International',\n",
    "    'Target'\n",
    "}\n",
    "quantitative_vars = {\n",
    "   'Application order',\n",
    "    'Previous qualification (grade)',\n",
    "    'Admission grade',\n",
    "    'Age at enrollment',\n",
    "   'Curricular units 1st sem (enrolled)',\n",
    "   'Curricular units 1st sem (credited)',\n",
    "   'Curricular units 1st sem (evaluations)',\n",
    "   'Curricular units 1st sem (approved)',\n",
    "   'Curricular units 1st sem (grade)',\n",
    "   'Curricular units 1st sem (without evaluations)',\n",
    "   'Curricular units 2nd sem (credited)',\n",
    "   'Curricular units 2nd sem (enrolled)',\n",
    "   'Curricular units 2nd sem (evaluations)',\n",
    "   'Curricular units 2nd sem (approved)',\n",
    "   'Curricular units 2nd sem (grade)',\n",
    "   'Curricular units 2nd sem (without evaluations)',\n",
    "   'Unemployment rate',\n",
    "   'Inflation rate',\n",
    "    'GDP'\n",
    "}\n",
    "print(\"categorical vars\", len(categorical_vars))\n",
    "print(\"quantitative vars\", len(quantitative_vars))\n"
   ]
  },
  {
   "cell_type": "code",
   "execution_count": 4,
   "id": "d4c42379accfdc5e",
   "metadata": {
    "ExecuteTime": {
     "end_time": "2024-11-21T18:05:25.206240Z",
     "start_time": "2024-11-21T18:05:25.180160Z"
    },
    "collapsed": false
   },
   "outputs": [
    {
     "name": "stdout",
     "output_type": "stream",
     "text": [
      "train_ds: 2541 samples\n",
      "test_ds: 726 samples\n",
      "[train_ds]: input shape: (2541, 49), output shape: (2541,)\n",
      "[valid_ds]: input shape: (363, 49), valid shape: (363,)\n",
      "[test_ds]: input shape: (726, 49), output shape: (726,)\n"
     ]
    },
    {
     "name": "stderr",
     "output_type": "stream",
     "text": [
      "/var/folders/pv/x97pt2hs4r57jwqqpz0z10_40000gn/T/ipykernel_42134/27632740.py:32: FutureWarning: Downcasting behavior in `replace` is deprecated and will be removed in a future version. To retain the old behavior, explicitly call `result.infer_objects(copy=False)`. To opt-in to the future behavior, set `pd.set_option('future.no_silent_downcasting', True)`\n",
      "  df_encoded[\"Target\"] = df_encoded[\"Target\"].replace({'Graduate': 0, 'Dropout': 1})\n"
     ]
    }
   ],
   "source": [
    "drop_features = set([\"Father's qualification\",\n",
    " 'Gender',\n",
    " 'Previous qualification (grade)',\n",
    " 'International',\n",
    " 'Curricular units 2nd sem (without evaluations)',\n",
    " 'Marital Status',\n",
    " 'GDP',\n",
    " 'Displaced',\n",
    " 'Debtor',\n",
    " 'Inflation rate',\n",
    " \"Mother's occupation\",\n",
    " \"Father's occupation\",\n",
    " 'Unemployment rate',\n",
    " 'Previous qualification',\n",
    " 'Curricular units 1st sem (without evaluations)',\n",
    " \"Mother's qualification\",\n",
    " 'Curricular units 2nd sem (enrolled)',\n",
    " 'Application order',\n",
    " 'Age at enrollment',\n",
    " 'Educational special needs','Nacionality'])\n",
    "\n",
    "second_drop = set(['Curricular units 1st sem (grade)', 'Curricular units 1st sem (evaluations)'])\n",
    "\n",
    "drop_features = drop_features.union(second_drop)\n",
    "\n",
    "quantitative_vars -= drop_features\n",
    "categorical_vars -= drop_features\n",
    "df.drop(drop_features, axis=1, inplace=True)\n",
    "df.to_csv('filtered_data.csv', index=False)\n",
    "\n",
    "df_encoded = df[df['Target'].isin(['Graduate', 'Dropout'])].copy()\n",
    "df_encoded[\"Target\"] = df_encoded[\"Target\"].replace({'Graduate': 0, 'Dropout': 1})\n",
    "# Applying one-hot encoding on categorical variables\n",
    "df_encoded = pd.get_dummies(df_encoded, columns=list(categorical_vars - {'Target'}))\n",
    "\n",
    "# normalize quantitative columns:\n",
    "df_encoded[list(quantitative_vars)] = df_encoded[list(quantitative_vars)].apply(lambda x: (x-x.min())/(x.max()-x.min()))\n",
    "\n",
    "valid_count = int(len(df_encoded) * 0.7)\n",
    "test_count = int(len(df_encoded) * 0.8)\n",
    "df_shuffled = df_encoded.sample(frac=1, random_state=42).reset_index(drop=True)\n",
    "df_train = df_encoded[:valid_count].reset_index(drop=True)\n",
    "df_valid = df_encoded[valid_count:test_count].reset_index(drop=True)\n",
    "df_test = df_encoded[test_count:].reset_index(drop=True)\n",
    "\n",
    "y_train = df_train[\"Target\"]\n",
    "x_train = df_train.drop([\"Target\"], axis=1)\n",
    "\n",
    "y_test = df_test[\"Target\"]\n",
    "x_test = df_test.drop([\"Target\"], axis=1)\n",
    "\n",
    "y_valid = df_valid[\"Target\"]\n",
    "x_valid = df_valid.drop([\"Target\"], axis=1)\n",
    "\n",
    "print(f\"train_ds: {df_train.shape[0]} samples\")\n",
    "print(f\"test_ds: {df_test.shape[0]} samples\")\n",
    "print(f'[train_ds]: input shape: {x_train.shape}, output shape: {y_train.shape}')\n",
    "print(f'[valid_ds]: input shape: {x_valid.shape}, valid shape: {y_valid.shape}')\n",
    "print(f'[test_ds]: input shape: {x_test.shape}, output shape: {y_test.shape}')\n"
   ]
  },
  {
   "cell_type": "code",
   "execution_count": 5,
   "id": "34a8be7ec7b43e7f",
   "metadata": {
    "ExecuteTime": {
     "end_time": "2024-11-21T18:05:26.023124Z",
     "start_time": "2024-11-21T18:05:26.016662Z"
    },
    "collapsed": false
   },
   "outputs": [
    {
     "name": "stdout",
     "output_type": "stream",
     "text": [
      "torch.Size([10, 49]) torch.Size([10, 1])\n"
     ]
    }
   ],
   "source": [
    "from torch.utils.data import Dataset, DataLoader\n",
    "class DropoutDS(Dataset):\n",
    "    def __init__(self, x,y):\n",
    "        self.input_df = x\n",
    "        self.output_df = y\n",
    "\n",
    "    def __len__(self):\n",
    "        return self.input_df.shape[0]\n",
    "\n",
    "    def __getitem__(self, idx):\n",
    "        inp = self.input_df.iloc[idx].astype(float)\n",
    "        out = np.expand_dims(self.output_df.iloc[idx].astype(float), axis=0)\n",
    "        # out = self.output_df.iloc[idx].astype(float)\n",
    "        inp_t = torch.tensor(inp.values, dtype=torch.float32)\n",
    "        out_t = torch.tensor(out, dtype=torch.float32)\n",
    "        return inp_t, out_t\n",
    "\n",
    "batch_size = 10\n",
    "train_dl = DataLoader(DropoutDS(x_train, y_train), batch_size=batch_size, shuffle=True)\n",
    "test_dl = DataLoader(DropoutDS(x_test, y_test), batch_size=batch_size, shuffle=True)\n",
    "valid_dl = DataLoader(DropoutDS(x_valid, y_valid), batch_size=batch_size, shuffle=True)\n",
    "# testing dl size\n",
    "x, y= next(iter(train_dl))\n",
    "print(x.shape, y.shape)\n",
    "\n"
   ]
  },
  {
   "cell_type": "code",
   "execution_count": 6,
   "id": "353dd7def9f42178",
   "metadata": {
    "ExecuteTime": {
     "end_time": "2024-11-21T18:05:27.625219Z",
     "start_time": "2024-11-21T18:05:27.620263Z"
    },
    "collapsed": false
   },
   "outputs": [
    {
     "name": "stdout",
     "output_type": "stream",
     "text": [
      "5953 trainable params\n"
     ]
    }
   ],
   "source": [
    "import torch.nn as nn\n",
    "dropout_prob = 0.25\n",
    "\n",
    "model = nn.Sequential(\n",
    "    # nn.Linear(246, 256),\n",
    "    # nn.ReLU(),\n",
    "    # nn.Dropout(p=dropout_prob),\n",
    "    # nn.Linear(70, 128),\n",
    "    # nn.ReLU(),\n",
    "    # nn.Dropout(p=dropout_prob),\n",
    "    nn.Linear(49, 64),\n",
    "    nn.ReLU(),\n",
    "    nn.Dropout(p=dropout_prob),\n",
    "    nn.Linear(64, 32),\n",
    "    nn.ReLU(),\n",
    "    nn.Dropout(p=dropout_prob),\n",
    "    nn.Linear(32, 16),\n",
    "    nn.ReLU(),\n",
    "    nn.Linear(16, 8),\n",
    "    nn.ReLU(),\n",
    "    nn.Linear(8, 1),\n",
    "    nn.Sigmoid()\n",
    ")\n",
    "\n",
    "def init_model_weights(model):\n",
    "    if isinstance(model, nn.Linear):\n",
    "        nn.init.normal_(model.weight, mean=0, std=0.1)\n",
    "        nn.init.constant_(model.bias, 0)\n",
    "\n",
    "model.apply(init_model_weights)\n",
    "print(f\"{sum(p.numel() for p in model.parameters())} trainable params\")\n"
   ]
  },
  {
   "cell_type": "code",
   "execution_count": 7,
   "id": "71e0f57027b2fd1b",
   "metadata": {
    "ExecuteTime": {
     "end_time": "2024-11-21T18:06:26.985908Z",
     "start_time": "2024-11-21T18:05:38.653333Z"
    },
    "collapsed": false
   },
   "outputs": [
    {
     "name": "stdout",
     "output_type": "stream",
     "text": [
      "epoch: 199 | train_loss: 0.18 valid_loss: 0.28| train_acc: 0.9311 | valid_acc: 0.9108\n",
      "Best Model Performance:\n",
      "\ttrain_acc: 0.9276\n",
      "\tvalid_acc: 0.9216\n",
      "\n",
      "Best Model Performance:\n",
      "\ttrain_loss: 0.1995\n",
      "\tvalid_loss: 0.2709\n"
     ]
    }
   ],
   "source": [
    "loss_fn = torch.nn.BCELoss()\n",
    "optimizer = torch.optim.SGD(model.parameters(), lr=0.001, momentum=0.9)\n",
    "\n",
    "def get_mis_cls(outputs, tgt):\n",
    "    cls = torch.round(outputs).type(torch.int32)\n",
    "    tgt = tgt.type(torch.int32)\n",
    "    mis_cls = torch.sum(torch.abs(cls - tgt))\n",
    "    return mis_cls.item()\n",
    "    \n",
    "\n",
    "def valid_epoch(dl):\n",
    "    model.train(False)\n",
    "    running_loss = 0.\n",
    "    total_mis_cls = 0\n",
    "    with torch.no_grad():\n",
    "        for i, data in enumerate(dl):\n",
    "            inputs, tgt = data\n",
    "\n",
    "            outputs = model(inputs)\n",
    "            \n",
    "            loss = loss_fn(outputs, tgt)\n",
    "            running_loss += loss.item()\n",
    "            total_mis_cls += get_mis_cls(outputs, tgt)\n",
    "    return running_loss/len(dl), 1 - float(total_mis_cls) / (len(dl) * batch_size)\n",
    "\n",
    "def train_epoch():\n",
    "    model.train(True)\n",
    "    running_loss = 0.\n",
    "    total_mis_cls = 0\n",
    "    for i, data in enumerate(train_dl):\n",
    "        inputs, tgt = data\n",
    "        optimizer.zero_grad()\n",
    "        outputs = model(inputs)\n",
    "        loss = loss_fn(outputs, tgt)\n",
    "        total_mis_cls += get_mis_cls(outputs, tgt)\n",
    "        loss.backward()\n",
    "        optimizer.step()\n",
    "        running_loss += loss.item()\n",
    "    return running_loss/len(train_dl), 1 - float(total_mis_cls) / x_train.shape[0]\n",
    "\n",
    "EPOCHS = 200\n",
    "loss = []\n",
    "all_train_acc = []\n",
    "all_valid_acc = []\n",
    "all_valid_loss = []\n",
    "all_train_loss = []\n",
    "acc_queue = deque()\n",
    "max_acc = -1e10\n",
    "best_performance = 0,0\n",
    "count_avg_perf = 5\n",
    "for epoch in range(EPOCHS):\n",
    "    avg_train_loss, train_acc = train_epoch()\n",
    "    avg_valid_loss, valid_acc = valid_epoch(valid_dl)\n",
    "    all_train_loss.append(avg_train_loss)\n",
    "    all_valid_loss.append(avg_valid_loss)\n",
    "    all_train_acc.append(train_acc)\n",
    "    all_valid_acc.append(valid_acc)\n",
    "    if len(acc_queue) > count_avg_perf:\n",
    "        acc_queue.popleft()\n",
    "    acc_queue.append(valid_acc)\n",
    "    curr_max_acc = sum(list(acc_queue)) / float(count_avg_perf)\n",
    "    if curr_max_acc > max_acc:\n",
    "        max_acc =  curr_max_acc\n",
    "        best_performance = (train_acc, valid_acc, avg_train_loss, avg_valid_loss)\n",
    "        max_acc_epoch = epoch\n",
    "        torch.save(model, 'mlp-model.pt')\n",
    "    print(f'epoch: {epoch} | train_loss: {avg_train_loss:.2f} valid_loss: {avg_valid_loss:.2f}'\n",
    "          f'| train_acc: {train_acc:.4f} | valid_acc: {valid_acc:.4f}', end= '\\r')\n",
    "print(f'\\nBest Model Performance:\\n\\ttrain_acc: {best_performance[0]:.4f}\\n\\tvalid_acc: {best_performance[1]:.4f}')\n",
    "print(f'\\nBest Model Performance:\\n\\ttrain_loss: {best_performance[2]:.4f}\\n\\tvalid_loss: {best_performance[3]:.4f}')\n"
   ]
  },
  {
   "cell_type": "code",
   "execution_count": 8,
   "id": "968c46dbe9f7f3ce",
   "metadata": {
    "ExecuteTime": {
     "end_time": "2024-11-21T18:06:30.758809Z",
     "start_time": "2024-11-21T18:06:30.083771Z"
    },
    "collapsed": false
   },
   "outputs": [
    {
     "data": {
      "image/png": "[encoded data removed]",
      "text/plain": [
       "<Figure size 800x200 with 1 Axes>"
      ]
     },
     "metadata": {},
     "output_type": "display_data"
    },
    {
     "data": {
      "image/png": "[encoded data removed]",
      "text/plain": [
       "<Figure size 800x100 with 1 Axes>"
      ]
     },
     "metadata": {},
     "output_type": "display_data"
    }
   ],
   "source": [
    "import matplotlib.pyplot as plt\n",
    "\n",
    "epochs = np.arange(1, EPOCHS + 1)\n",
    "# PLOT ACCURACIES\n",
    "plt.figure(figsize=(8,2))\n",
    "plt.plot(epochs, all_valid_acc, marker='.', color='b', label='Validation Accuracy')\n",
    "plt.plot(epochs, all_train_acc, marker='.', color='r', label='Training Accuracy')\n",
    "plt.title('Training And Validation Accuracies Over Epochs', fontsize=14)\n",
    "plt.xlabel('Epochs', fontsize=12)\n",
    "plt.ylabel('Accuracy', fontsize=12)\n",
    "\n",
    "# Add grid and legend\n",
    "plt.grid(True)\n",
    "plt.legend()\n",
    "\n",
    "# Show the plot\n",
    "plt.show()\n",
    "\n",
    "plt.figure(figsize=(8,1))\n",
    "plt.plot(epochs, all_valid_loss, marker='.', color='b', label='Validation Loss')\n",
    "plt.plot(epochs, all_train_loss, marker='.', color='r', label='Training Loss')\n",
    "plt.title('Training And Validation Loss Over Epochs', fontsize=14)\n",
    "plt.xlabel('Epochs', fontsize=12)\n",
    "plt.ylabel('BCE Loss', fontsize=12)\n",
    "\n",
    "# Add grid and legend\n",
    "plt.grid(True)\n",
    "plt.legend()\n",
    "\n",
    "# Show the plot\n",
    "plt.show()"
   ]
  },
  {
   "cell_type": "code",
   "execution_count": 9,
   "id": "aa5f5ee08ee54064",
   "metadata": {
    "ExecuteTime": {
     "end_time": "2024-11-21T18:06:32.077831Z",
     "start_time": "2024-11-21T18:06:32.017691Z"
    },
    "collapsed": false
   },
   "outputs": [
    {
     "name": "stderr",
     "output_type": "stream",
     "text": [
      "/var/folders/pv/x97pt2hs4r57jwqqpz0z10_40000gn/T/ipykernel_42134/2389144475.py:2: FutureWarning: You are using `torch.load` with `weights_only=False` (the current default value), which uses the default pickle module implicitly. It is possible to construct malicious pickle data which will execute arbitrary code during unpickling (See https://github.com/pytorch/pytorch/blob/main/SECURITY.md#untrusted-models for more details). In a future release, the default value for `weights_only` will be flipped to `True`. This limits the functions that could be executed during unpickling. Arbitrary objects will no longer be allowed to be loaded via this mode unless they are explicitly allowlisted by the user via `torch.serialization.add_safe_globals`. We recommend you start setting `weights_only=True` for any use case where you don't have full control of the loaded file. Please open an issue on GitHub for any issues related to this experimental feature.\n",
      "  model = torch.load('mlp-model.pt')\n"
     ]
    }
   ],
   "source": [
    "# evaluating on test dataset:\n",
    "model = torch.load('mlp-model.pt')\n",
    "avg_test_loss, test_acc = valid_epoch(test_dl)"
   ]
  },
  {
   "cell_type": "code",
   "execution_count": 10,
   "id": "f483c08aa81298e4",
   "metadata": {
    "ExecuteTime": {
     "end_time": "2024-11-21T18:06:33.121558Z",
     "start_time": "2024-11-21T18:06:33.117884Z"
    },
    "collapsed": false
   },
   "outputs": [
    {
     "data": {
      "text/plain": [
       "(0.2828691368284699, 0.904109589041096)"
      ]
     },
     "execution_count": 10,
     "metadata": {},
     "output_type": "execute_result"
    }
   ],
   "source": [
    "avg_test_loss, test_acc"
   ]
  },
  {
   "cell_type": "markdown",
   "id": "c088b204c09b66e0",
   "metadata": {
    "collapsed": false
   },
   "source": [
    "## training all_features: 0.8835\n",
    "### dropping:\n",
    "\"Father's qualification\",\n",
    " 'Gender',\n",
    " 'Previous qualification (grade)',\n",
    " 'International',\n",
    " 'Curricular units 2nd sem (without evaluations)',\n",
    " 'Marital Status',\n",
    " 'GDP',\n",
    " 'Displaced',\n",
    " 'Debtor',\n",
    " 'Inflation rate',\n",
    " \"Mother's occupation\",\n",
    " \"Father's occupation\",\n",
    " 'Unemployment rate',\n",
    " 'Previous qualification',\n",
    " 'Curricular units 1st sem (without evaluations)',\n",
    " \"Mother's qualification\",\n",
    " 'Curricular units 2nd sem (enrolled)',\n",
    " 'Application order',\n",
    " 'Age at enrollment',\n",
    " 'Educational special needs','Nacionality'\n",
    "## training after first feature removal: 0.9013\n",
    "### dropping:\n",
    "'Curricular units 1st sem (grade)', 'Curricular units 1st sem (evaluations)'\n",
    "## training after second feature removal: 0.9082\n",
    "### Dropping:\n",
    "'Admission grade', \n",
    "'Daytime/evening attendance' \n",
    "## training after third feature removal: 0.8853\n",
    "Will not drop admission and attendence variables\n"
   ]
  },
  {
   "cell_type": "code",
   "execution_count": 9,
   "id": "881b5b850b1ccbc",
   "metadata": {
    "ExecuteTime": {
     "end_time": "2024-11-21T18:05:20.024161Z",
     "start_time": "2024-11-21T18:05:20.020201Z"
    },
    "collapsed": false
   },
   "outputs": [],
   "source": [
    "model = torch.load('/Users/alexiy/Projects/Purdue/cs573_proj/mlp-model.pt')\n"
   ]
  },
  {
   "cell_type": "code",
   "execution_count": 10,
   "id": "7eb931bab31009fc",
   "metadata": {
    "ExecuteTime": {
     "end_time": "2024-11-21T18:05:20.825070Z",
     "start_time": "2024-11-21T18:05:20.660574Z"
    },
    "collapsed": false
   },
   "outputs": [
    {
     "ename": "NameError",
     "evalue": "name 'test_dl' is not defined",
     "output_type": "error",
     "traceback": [
      "\u001b[0;31m---------------------------------------------------------------------------\u001b[0m",
      "\u001b[0;31mNameError\u001b[0m                                 Traceback (most recent call last)",
      "Cell \u001b[0;32mIn[10], line 1\u001b[0m\n\u001b[0;32m----> 1\u001b[0m \u001b[43mtest_dl\u001b[49m\n",
      "\u001b[0;31mNameError\u001b[0m: name 'test_dl' is not defined"
     ]
    }
   ],
   "source": [
    "test_dl"
   ]
  },
  {
   "cell_type": "code",
   "execution_count": 264,
   "id": "d4265d58897afa4b",
   "metadata": {
    "ExecuteTime": {
     "end_time": "2024-11-20T02:37:36.582765Z",
     "start_time": "2024-11-20T02:37:36.579973Z"
    },
    "collapsed": false
   },
   "outputs": [
    {
     "data": {
      "text/plain": [
       "((726, 49), (726,))"
      ]
     },
     "execution_count": 264,
     "metadata": {},
     "output_type": "execute_result"
    }
   ],
   "source": [
    "x_test.shape, y_test.shape"
   ]
  },
  {
   "cell_type": "code",
   "execution_count": 265,
   "id": "c34f03c7b1203779",
   "metadata": {
    "ExecuteTime": {
     "end_time": "2024-11-20T02:37:36.921653Z",
     "start_time": "2024-11-20T02:37:36.917975Z"
    },
    "collapsed": false
   },
   "outputs": [],
   "source": [
    "unique_cols = set([col.split(\"_\")[0] for col in x_test.columns])"
   ]
  },
  {
   "cell_type": "markdown",
   "id": "454b51b11b813c5d",
   "metadata": {
    "collapsed": false
   },
   "source": [
    "# Data Feature Analysis"
   ]
  },
  {
   "cell_type": "code",
   "execution_count": 266,
   "id": "abeede0926c938e8",
   "metadata": {
    "ExecuteTime": {
     "end_time": "2024-11-20T02:37:39.179443Z",
     "start_time": "2024-11-20T02:37:37.798331Z"
    },
    "collapsed": false
   },
   "outputs": [
    {
     "name": "stdout",
     "output_type": "stream",
     "text": [
      "+----------------------------------------+------------+----------------+------------------+\n",
      "| Feature                                |   Orig Acc |   Shuffled Acc | Remove Feature   |\n",
      "+========================================+============+================+==================+\n",
      "| Application mode                       |     0.9082 |         0.8986 | False            |\n",
      "+----------------------------------------+------------+----------------+------------------+\n",
      "| Curricular units 1st sem (enrolled)    |     0.9082 |         0.9027 | False            |\n",
      "+----------------------------------------+------------+----------------+------------------+\n",
      "| Curricular units 2nd sem (grade)       |     0.9082 |         0.8192 | False            |\n",
      "+----------------------------------------+------------+----------------+------------------+\n",
      "| Curricular units 1st sem (credited)    |     0.9082 |         0.8945 | False            |\n",
      "+----------------------------------------+------------+----------------+------------------+\n",
      "| Admission grade                        |     0.9082 |         0.911  | True             |\n",
      "+----------------------------------------+------------+----------------+------------------+\n",
      "| Curricular units 2nd sem (evaluations) |     0.9082 |         0.8973 | False            |\n",
      "+----------------------------------------+------------+----------------+------------------+\n",
      "| Daytime/evening attendance             |     0.9082 |         0.9082 | True             |\n",
      "+----------------------------------------+------------+----------------+------------------+\n",
      "| Curricular units 2nd sem (approved)    |     0.9082 |         0.7205 | False            |\n",
      "+----------------------------------------+------------+----------------+------------------+\n",
      "| Scholarship holder                     |     0.9082 |         0.8849 | False            |\n",
      "+----------------------------------------+------------+----------------+------------------+\n",
      "| Curricular units 2nd sem (credited)    |     0.9082 |         0.8918 | False            |\n",
      "+----------------------------------------+------------+----------------+------------------+\n",
      "| Tuition fees up to date                |     0.9082 |         0.863  | False            |\n",
      "+----------------------------------------+------------+----------------+------------------+\n",
      "| Course                                 |     0.9082 |         0.9    | False            |\n",
      "+----------------------------------------+------------+----------------+------------------+\n",
      "| Curricular units 1st sem (approved)    |     0.9082 |         0.8671 | False            |\n",
      "+----------------------------------------+------------+----------------+------------------+\n"
     ]
    }
   ],
   "source": [
    "from tabulate import tabulate\n",
    "def analyze_feature_importance(feature):\n",
    "    cols = [col for col in x_test.columns if feature in col]\n",
    "    df_copy = x_test.copy()\n",
    "    test_dl = DataLoader(DropoutDS(x_test, y_test), batch_size=batch_size, shuffle=True)\n",
    "    _, orig_test_acc = valid_epoch(test_dl)\n",
    "    for col in cols:\n",
    "        df_copy[col] = df_copy[col].sample(frac=1).reset_index(drop=True)\n",
    "    test_dl = DataLoader(DropoutDS(df_copy, y_test), batch_size=batch_size, shuffle=True)\n",
    "    _, removal_test_acc = valid_epoch(test_dl)\n",
    "    return feature, orig_test_acc, removal_test_acc, removal_test_acc > orig_test_acc - 0.0005\n",
    "\n",
    "\n",
    "headers = [\"Feature\", \"Orig Acc\", \"Shuffled Acc\", \"Remove Feature\"]\n",
    "data = []\n",
    "for col in unique_cols:\n",
    "    feature, original_test_acc, removal_test_acc, remove_feature = analyze_feature_importance(col)\n",
    "    data.append([feature, f\"{original_test_acc:.4}\", f\"{removal_test_acc:.4}\", remove_feature])\n",
    "\n",
    "print(tabulate(data, headers=headers, tablefmt=\"grid\"))\n",
    "    "
   ]
  },
  {
   "cell_type": "code",
   "execution_count": 272,
   "id": "d01be5fe3122f1ea",
   "metadata": {
    "ExecuteTime": {
     "end_time": "2024-11-20T02:53:45.954001Z",
     "start_time": "2024-11-20T02:53:45.951736Z"
    },
    "collapsed": false
   },
   "outputs": [],
   "source": [
    "drop_features = [feat for feat, _, _, drop in data if drop]\n",
    "keep_features = [feat for feat, _, _, drop in data if not drop]\n"
   ]
  },
  {
   "cell_type": "code",
   "execution_count": 273,
   "id": "218da5d41e8de5f",
   "metadata": {
    "ExecuteTime": {
     "end_time": "2024-11-20T02:53:46.426285Z",
     "start_time": "2024-11-20T02:53:46.423735Z"
    },
    "collapsed": false
   },
   "outputs": [
    {
     "name": "stdout",
     "output_type": "stream",
     "text": [
      "features to drop:\n",
      "['Admission grade', 'Daytime/evening attendance']\n",
      "features to keep:\n",
      "['Application mode', 'Curricular units 1st sem (enrolled)', 'Curricular units 2nd sem (grade)', 'Curricular units 1st sem (credited)', 'Curricular units 2nd sem (evaluations)', 'Curricular units 2nd sem (approved)', 'Scholarship holder', 'Curricular units 2nd sem (credited)', 'Tuition fees up to date', 'Course', 'Curricular units 1st sem (approved)']\n"
     ]
    }
   ],
   "source": [
    "print(\"features to drop:\")\n",
    "print(drop_features)\n",
    "print(\"features to keep:\")\n",
    "print(keep_features)\n",
    "\n"
   ]
  },
  {
   "cell_type": "markdown",
   "id": "729ea059",
   "metadata": {},
   "source": [
    "## 10 Fold Cross Validation"
   ]
  },
  {
   "cell_type": "code",
   "execution_count": 62,
   "id": "c80e4aceb6ad1d9d",
   "metadata": {
    "ExecuteTime": {
     "end_time": "2024-11-20T01:50:02.951590Z",
     "start_time": "2024-11-20T01:50:02.866470Z"
    },
    "collapsed": false
   },
   "outputs": [],
   "source": []
  },
  {
   "cell_type": "code",
   "execution_count": 63,
   "id": "4e6f55be5fff87ab",
   "metadata": {
    "ExecuteTime": {
     "end_time": "2024-11-20T01:50:03.414451Z",
     "start_time": "2024-11-20T01:50:03.412405Z"
    },
    "collapsed": false
   },
   "outputs": [
    {
     "name": "stdout",
     "output_type": "stream",
     "text": [
      "0.8821917808219178\n"
     ]
    }
   ],
   "source": [
    "print(test_acc)"
   ]
  },
  {
   "cell_type": "code",
   "execution_count": null,
   "id": "f0391a5d8cf3031b",
   "metadata": {
    "collapsed": false
   },
   "outputs": [],
   "source": []
  }
 ],
 "metadata": {
  "kernelspec": {
   "display_name": "torch_env",
   "language": "python",
   "name": "python3"
  },
  "language_info": {
   "codemirror_mode": {
    "name": "ipython",
    "version": 3
   },
   "file_extension": ".py",
   "mimetype": "text/x-python",
   "name": "python",
   "nbconvert_exporter": "python",
   "pygments_lexer": "ipython3",
   "version": "3.11.7"
  }
 },
 "nbformat": 4,
 "nbformat_minor": 5
}
