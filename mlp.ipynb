{
 "cells": [
  {
   "cell_type": "code",
   "execution_count": 9,
   "id": "initial_id",
   "metadata": {
    "collapsed": true,
    "ExecuteTime": {
     "end_time": "2024-10-26T01:49:45.137490Z",
     "start_time": "2024-10-26T01:49:43.501610Z"
    }
   },
   "outputs": [],
   "source": [
    "import numpy as np\n",
    "import torch\n",
    "import pandas as pd\n",
    "from collections import deque\n",
    "!pip install ucimlrepo  --quiet"
   ]
  },
  {
   "cell_type": "code",
   "execution_count": 10,
   "id": "f7410b1026fb4a61",
   "metadata": {
    "collapsed": false,
    "ExecuteTime": {
     "end_time": "2024-10-26T01:49:45.941787Z",
     "start_time": "2024-10-26T01:49:45.139139Z"
    }
   },
   "outputs": [
    {
     "name": "stdout",
     "output_type": "stream",
     "text": [
      "4424 entries with 37 features\n"
     ]
    }
   ],
   "source": [
    "from ucimlrepo import fetch_ucirepo\n",
    "\n",
    "# fetch dataset \n",
    "predict_students_dropout_and_academic_success = fetch_ucirepo(id=697)\n",
    "\n",
    "# data (as pandas dataframes) \n",
    "X = predict_students_dropout_and_academic_success.data.features\n",
    "y = predict_students_dropout_and_academic_success.data.targets\n",
    "# metadata \n",
    "metadata = predict_students_dropout_and_academic_success.metadata\n",
    "\n",
    "# variable information \n",
    "variable_info = predict_students_dropout_and_academic_success.variables\n",
    "\n",
    "df = X\n",
    "df['Target'] = y\n",
    "\n",
    "print(f\"{df.shape[0]} entries with {df.shape[1]} features\")"
   ]
  },
  {
   "cell_type": "code",
   "execution_count": 11,
   "id": "2d73c6ecbf974d5",
   "metadata": {
    "collapsed": false,
    "ExecuteTime": {
     "end_time": "2024-10-26T01:49:45.946631Z",
     "start_time": "2024-10-26T01:49:45.942816Z"
    }
   },
   "outputs": [
    {
     "name": "stdout",
     "output_type": "stream",
     "text": [
      "categorical vars 18\n",
      "quantitative vars 19\n"
     ]
    }
   ],
   "source": [
    "categorical_vars = {\n",
    "    'Marital Status',\n",
    "    'Application mode',\n",
    "    'Course',\n",
    "    'Daytime/evening attendance',\n",
    "    'Previous qualification',\n",
    "    'Nacionality',\n",
    "    'Mother\\'s qualification',\n",
    "    'Father\\'s qualification',\n",
    "    'Mother\\'s occupation',\n",
    "    'Father\\'s occupation',\n",
    "    'Displaced', 'Educational special needs', 'Debtor',\n",
    "    'Tuition fees up to date', 'Gender', 'Scholarship holder',\n",
    "    'International',\n",
    "    'Target'\n",
    "}\n",
    "quantitative_vars = {\n",
    "   'Application order',\n",
    "    'Previous qualification (grade)',\n",
    "    'Admission grade',\n",
    "    'Age at enrollment',\n",
    "   'Curricular units 1st sem (enrolled)',\n",
    "   'Curricular units 1st sem (credited)',\n",
    "   'Curricular units 1st sem (evaluations)',\n",
    "   'Curricular units 1st sem (approved)',\n",
    "   'Curricular units 1st sem (grade)',\n",
    "   'Curricular units 1st sem (without evaluations)',\n",
    "   'Curricular units 2nd sem (credited)',\n",
    "   'Curricular units 2nd sem (enrolled)',\n",
    "   'Curricular units 2nd sem (evaluations)',\n",
    "   'Curricular units 2nd sem (approved)',\n",
    "   'Curricular units 2nd sem (grade)',\n",
    "   'Curricular units 2nd sem (without evaluations)',\n",
    "   'Unemployment rate',\n",
    "   'Inflation rate',\n",
    "    'GDP'\n",
    "}\n",
    "print(\"categorical vars\", len(categorical_vars))\n",
    "print(\"quantitative vars\", len(quantitative_vars))\n"
   ]
  },
  {
   "cell_type": "code",
   "outputs": [
    {
     "data": {
      "text/plain": "Index(['Marital Status', 'Application mode', 'Application order', 'Course',\n       'Daytime/evening attendance', 'Previous qualification',\n       'Previous qualification (grade)', 'Nacionality',\n       'Mother's qualification', 'Father's qualification',\n       'Mother's occupation', 'Father's occupation', 'Admission grade',\n       'Displaced', 'Educational special needs', 'Debtor',\n       'Tuition fees up to date', 'Gender', 'Scholarship holder',\n       'Age at enrollment', 'International',\n       'Curricular units 1st sem (credited)',\n       'Curricular units 1st sem (enrolled)',\n       'Curricular units 1st sem (evaluations)',\n       'Curricular units 1st sem (approved)',\n       'Curricular units 1st sem (grade)',\n       'Curricular units 1st sem (without evaluations)',\n       'Curricular units 2nd sem (credited)',\n       'Curricular units 2nd sem (enrolled)',\n       'Curricular units 2nd sem (evaluations)',\n       'Curricular units 2nd sem (approved)',\n       'Curricular units 2nd sem (grade)',\n       'Curricular units 2nd sem (without evaluations)', 'Unemployment rate',\n       'Inflation rate', 'GDP', 'Target'],\n      dtype='object')"
     },
     "execution_count": 12,
     "metadata": {},
     "output_type": "execute_result"
    }
   ],
   "source": [
    "\n",
    "df.columns"
   ],
   "metadata": {
    "collapsed": false,
    "ExecuteTime": {
     "end_time": "2024-10-26T01:49:45.952186Z",
     "start_time": "2024-10-26T01:49:45.948631Z"
    }
   },
   "id": "7b8032a2d2c01f12",
   "execution_count": 12
  },
  {
   "cell_type": "code",
   "execution_count": 13,
   "id": "d4c42379accfdc5e",
   "metadata": {
    "collapsed": false,
    "ExecuteTime": {
     "end_time": "2024-10-26T01:49:45.977737Z",
     "start_time": "2024-10-26T01:49:45.953210Z"
    }
   },
   "outputs": [
    {
     "name": "stdout",
     "output_type": "stream",
     "text": [
      "train_ds: 2541 samples\n",
      "test_ds: 726 samples\n",
      "[train_ds]: input shape: (2541, 238), output shape: (2541,)\n",
      "[valid_ds]: input shape: (363, 238), valid shape: (363,)\n",
      "[test_ds]: input shape: (726, 238), output shape: (726,)\n"
     ]
    }
   ],
   "source": [
    "# remove the 'enrolled' column from dataframe:\n",
    "df.drop(['Inflation rate', 'GDP'], axis=1, inplace=True)\n",
    "misc_curriculum = [\n",
    "    \"Curricular units 1st sem (evaluations)\",\n",
    "    \"Curricular units 2nd sem (evaluations)\",\n",
    "    \"Curricular units 1st sem (credited)\",\n",
    "    \"Curricular units 2nd sem (credited)\",\n",
    "    \"Curricular units 1st sem (without evaluations)\",\n",
    "    \"Curricular units 2nd sem (without evaluations)\",\n",
    "]\n",
    "quantitative_vars -= set(misc_curriculum).union({\"Inflation rate\", \"GDP\"})\n",
    "df.drop(misc_curriculum, axis=1, inplace=True)\n",
    "\n",
    "df_encoded = df[df['Target'].isin(['Graduate', 'Dropout'])].copy()\n",
    "df_encoded[\"Target\"] = df_encoded[\"Target\"].replace({'Graduate': 0, 'Dropout': 1})\n",
    "# Applying one-hot encoding on categorical variables\n",
    "df_encoded = pd.get_dummies(df_encoded, columns=list(categorical_vars - {'Target'}))\n",
    "\n",
    "# normalize quantitative columns:\n",
    "df_encoded[list(quantitative_vars)] = df_encoded[list(quantitative_vars)].apply(lambda x: (x-x.min())/(x.max()-x.min()))\n",
    "\n",
    "valid_count = int(len(df_encoded) * 0.7)\n",
    "test_count = int(len(df_encoded) * 0.8)\n",
    "df_shuffled = df_encoded.sample(frac=1, random_state=42).reset_index(drop=True)\n",
    "df_train = df_encoded[:valid_count].reset_index(drop=True)\n",
    "df_valid = df_encoded[valid_count:test_count].reset_index(drop=True)\n",
    "df_test = df_encoded[test_count:].reset_index(drop=True)\n",
    "\n",
    "y_train = df_train[\"Target\"]\n",
    "x_train = df_train.drop([\"Target\"], axis=1)\n",
    "\n",
    "y_test = df_test[\"Target\"]\n",
    "x_test = df_test.drop([\"Target\"], axis=1)\n",
    "\n",
    "y_valid = df_valid[\"Target\"]\n",
    "x_valid = df_valid.drop([\"Target\"], axis=1)\n",
    "\n",
    "print(f\"train_ds: {df_train.shape[0]} samples\")\n",
    "print(f\"test_ds: {df_test.shape[0]} samples\")\n",
    "print(f'[train_ds]: input shape: {x_train.shape}, output shape: {y_train.shape}')\n",
    "print(f'[valid_ds]: input shape: {x_valid.shape}, valid shape: {y_valid.shape}')\n",
    "print(f'[test_ds]: input shape: {x_test.shape}, output shape: {y_test.shape}')\n"
   ]
  },
  {
   "cell_type": "code",
   "execution_count": 14,
   "id": "34a8be7ec7b43e7f",
   "metadata": {
    "collapsed": false,
    "ExecuteTime": {
     "end_time": "2024-10-26T01:49:45.985943Z",
     "start_time": "2024-10-26T01:49:45.978752Z"
    }
   },
   "outputs": [
    {
     "name": "stdout",
     "output_type": "stream",
     "text": [
      "torch.Size([10, 238]) torch.Size([10, 1])\n"
     ]
    }
   ],
   "source": [
    "from torch.utils.data import Dataset, DataLoader\n",
    "class DropoutDS(Dataset):\n",
    "    def __init__(self, x,y):\n",
    "        self.input_df = x\n",
    "        self.output_df = y\n",
    "\n",
    "    def __len__(self):\n",
    "        return self.input_df.shape[0]\n",
    "\n",
    "    def __getitem__(self, idx):\n",
    "        inp = self.input_df.iloc[idx].astype(float)\n",
    "        out = np.expand_dims(self.output_df.iloc[idx].astype(float), axis=0)\n",
    "        # out = self.output_df.iloc[idx].astype(float)\n",
    "        inp_t = torch.tensor(inp.values, dtype=torch.float32)\n",
    "        out_t = torch.tensor(out, dtype=torch.float32)\n",
    "        return inp_t, out_t\n",
    "\n",
    "batch_size = 10\n",
    "train_dl = DataLoader(DropoutDS(x_train, y_train), batch_size=batch_size, shuffle=True)\n",
    "test_dl = DataLoader(DropoutDS(x_test, y_test), batch_size=batch_size, shuffle=True)\n",
    "valid_dl = DataLoader(DropoutDS(x_valid, y_valid), batch_size=batch_size, shuffle=True)\n",
    "# testing dl size\n",
    "x, y= next(iter(train_dl))\n",
    "print(x.shape, y.shape)\n",
    "\n"
   ]
  },
  {
   "cell_type": "code",
   "execution_count": 15,
   "id": "353dd7def9f42178",
   "metadata": {
    "collapsed": false,
    "ExecuteTime": {
     "end_time": "2024-10-26T01:49:45.992854Z",
     "start_time": "2024-10-26T01:49:45.986797Z"
    }
   },
   "outputs": [
    {
     "name": "stdout",
     "output_type": "stream",
     "text": [
      "105089 trainable params\n"
     ]
    }
   ],
   "source": [
    "import torch.nn as nn\n",
    "dropout_prob = 0.25\n",
    "\n",
    "model = nn.Sequential(\n",
    "    nn.Linear(238, 256),\n",
    "    nn.ReLU(),\n",
    "    nn.Dropout(p=dropout_prob),\n",
    "    nn.Linear(256, 128),\n",
    "    nn.ReLU(),\n",
    "    nn.Dropout(p=dropout_prob),\n",
    "    nn.Linear(128, 64),\n",
    "    nn.ReLU(),\n",
    "    nn.Dropout(p=dropout_prob),\n",
    "    nn.Linear(64, 32),\n",
    "    nn.ReLU(),\n",
    "    nn.Dropout(p=dropout_prob),\n",
    "    nn.Linear(32, 16),\n",
    "    nn.ReLU(),\n",
    "    nn.Linear(16, 8),\n",
    "    nn.ReLU(),\n",
    "    nn.Linear(8, 1),\n",
    "    nn.Sigmoid()\n",
    ")\n",
    "\n",
    "def init_model_weights(model):\n",
    "    if isinstance(model, nn.Linear):\n",
    "        nn.init.normal_(model.weight, mean=0, std=0.1)\n",
    "        nn.init.constant_(model.bias, 0)\n",
    "\n",
    "model.apply(init_model_weights)\n",
    "print(f\"{sum(p.numel() for p in model.parameters())} trainable params\")\n"
   ]
  },
  {
   "cell_type": "code",
   "execution_count": 16,
   "id": "71e0f57027b2fd1b",
   "metadata": {
    "collapsed": false,
    "ExecuteTime": {
     "end_time": "2024-10-26T01:50:55.771243Z",
     "start_time": "2024-10-26T01:49:45.993929Z"
    }
   },
   "outputs": [
    {
     "name": "stdout",
     "output_type": "stream",
     "text": [
      "epoch: 199 | train_loss: 0.04 valid_loss: 0.83| train_acc: 0.9835 | valid_acc: 0.8784\r\n",
      "Best Model Performance:\n",
      "\ttrain_acc: 0.9366\n",
      "\tvalid_acc: 0.9027\n",
      "\n",
      "Best Model Performance:\n",
      "\ttrain_loss: 0.1669\n",
      "\tvalid_loss: 0.3748\n"
     ]
    }
   ],
   "source": [
    "loss_fn = torch.nn.BCELoss()\n",
    "optimizer = torch.optim.SGD(model.parameters(), lr=0.001, momentum=0.9)\n",
    "\n",
    "def get_mis_cls(outputs, tgt):\n",
    "    cls = torch.round(outputs).type(torch.int32)\n",
    "    tgt = tgt.type(torch.int32)\n",
    "    mis_cls = torch.sum(torch.abs(cls - tgt))\n",
    "    return mis_cls.item()\n",
    "    \n",
    "\n",
    "def valid_epoch(dl):\n",
    "    model.train(False)\n",
    "    running_loss = 0.\n",
    "    total_mis_cls = 0\n",
    "    with torch.no_grad():\n",
    "        for i, data in enumerate(dl):\n",
    "            inputs, tgt = data\n",
    "\n",
    "            outputs = model(inputs)\n",
    "            \n",
    "            loss = loss_fn(outputs, tgt)\n",
    "            running_loss += loss.item()\n",
    "            total_mis_cls += get_mis_cls(outputs, tgt)\n",
    "    return running_loss/len(dl), 1 - float(total_mis_cls) / (len(dl) * batch_size)\n",
    "\n",
    "def train_epoch():\n",
    "    model.train(True)\n",
    "    running_loss = 0.\n",
    "    total_mis_cls = 0\n",
    "    for i, data in enumerate(train_dl):\n",
    "        inputs, tgt = data\n",
    "        optimizer.zero_grad()\n",
    "        outputs = model(inputs)\n",
    "        loss = loss_fn(outputs, tgt)\n",
    "        total_mis_cls += get_mis_cls(outputs, tgt)\n",
    "        loss.backward()\n",
    "        optimizer.step()\n",
    "        running_loss += loss.item()\n",
    "    return running_loss/len(train_dl), 1 - float(total_mis_cls) / x_train.shape[0]\n",
    "\n",
    "EPOCHS = 200\n",
    "loss = []\n",
    "all_train_acc = []\n",
    "all_valid_acc = []\n",
    "all_valid_loss = []\n",
    "all_train_loss = []\n",
    "acc_queue = deque()\n",
    "max_acc = -1e10\n",
    "best_performance = 0,0\n",
    "count_avg_perf = 5\n",
    "for epoch in range(EPOCHS):\n",
    "    avg_train_loss, train_acc = train_epoch()\n",
    "    avg_valid_loss, valid_acc = valid_epoch(valid_dl)\n",
    "    all_train_loss.append(avg_train_loss)\n",
    "    all_valid_loss.append(avg_valid_loss)\n",
    "    all_train_acc.append(train_acc)\n",
    "    all_valid_acc.append(valid_acc)\n",
    "    if len(acc_queue) > count_avg_perf:\n",
    "        acc_queue.popleft()\n",
    "    acc_queue.append(valid_acc)\n",
    "    curr_max_acc = sum(list(acc_queue)) / float(count_avg_perf)\n",
    "    if curr_max_acc > max_acc:\n",
    "        max_acc =  curr_max_acc\n",
    "        best_performance = (train_acc, valid_acc, avg_train_loss, avg_valid_loss)\n",
    "        max_acc_epoch = epoch\n",
    "        torch.save(model, 'mlp-model.pt')\n",
    "    print(f'epoch: {epoch} | train_loss: {avg_train_loss:.2f} valid_loss: {avg_valid_loss:.2f}'\n",
    "          f'| train_acc: {train_acc:.4f} | valid_acc: {valid_acc:.4f}', end= '\\r')\n",
    "print(f'\\nBest Model Performance:\\n\\ttrain_acc: {best_performance[0]:.4f}\\n\\tvalid_acc: {best_performance[1]:.4f}')\n",
    "print(f'\\nBest Model Performance:\\n\\ttrain_loss: {best_performance[2]:.4f}\\n\\tvalid_loss: {best_performance[3]:.4f}')\n"
   ]
  },
  {
   "cell_type": "code",
   "execution_count": 32,
   "id": "968c46dbe9f7f3ce",
   "metadata": {
    "collapsed": false,
    "ExecuteTime": {
     "end_time": "2024-10-26T01:52:18.487528Z",
     "start_time": "2024-10-26T01:52:18.378328Z"
    }
   },
   "outputs": [
    {
     "data": {
      "text/plain": "<Figure size 800x200 with 1 Axes>",
      "image/png": "[encoded data removed]"
     },
     "metadata": {},
     "output_type": "display_data"
    },
    {
     "data": {
      "text/plain": "<Figure size 800x100 with 1 Axes>",
      "image/png": "[encoded data removed]"
     },
     "metadata": {},
     "output_type": "display_data"
    }
   ],
   "source": [
    "import matplotlib.pyplot as plt\n",
    "\n",
    "epochs = np.arange(1, EPOCHS + 1)\n",
    "# PLOT ACCURACIES\n",
    "plt.figure(figsize=(8,2))\n",
    "plt.plot(epochs, all_valid_acc, marker='.', color='b', label='Validation Accuracy')\n",
    "plt.plot(epochs, all_train_acc, marker='.', color='r', label='Training Accuracy')\n",
    "plt.title('Training And Validation Accuracies Over Epochs', fontsize=14)\n",
    "plt.xlabel('Epochs', fontsize=12)\n",
    "plt.ylabel('Accuracy', fontsize=12)\n",
    "\n",
    "# Add grid and legend\n",
    "plt.grid(True)\n",
    "plt.legend()\n",
    "\n",
    "# Show the plot\n",
    "plt.show()\n",
    "\n",
    "plt.figure(figsize=(8,1))\n",
    "plt.plot(epochs, all_valid_loss, marker='.', color='b', label='Validation Loss')\n",
    "plt.plot(epochs, all_train_loss, marker='.', color='r', label='Training Loss')\n",
    "plt.title('Training And Validation Loss Over Epochs', fontsize=14)\n",
    "plt.xlabel('Epochs', fontsize=12)\n",
    "plt.ylabel('BCE Loss', fontsize=12)\n",
    "\n",
    "# Add grid and legend\n",
    "plt.grid(True)\n",
    "plt.legend()\n",
    "\n",
    "# Show the plot\n",
    "plt.show()"
   ]
  },
  {
   "cell_type": "code",
   "execution_count": 25,
   "id": "aa5f5ee08ee54064",
   "metadata": {
    "collapsed": false,
    "ExecuteTime": {
     "end_time": "2024-10-26T01:51:33.042029Z",
     "start_time": "2024-10-26T01:51:32.972176Z"
    }
   },
   "outputs": [],
   "source": [
    "# evaluating on test dataset:\n",
    "model = torch.load('mlp-model.pt')\n",
    "avg_test_loss, test_acc = valid_epoch(test_dl)"
   ]
  },
  {
   "cell_type": "code",
   "execution_count": 22,
   "id": "f483c08aa81298e4",
   "metadata": {
    "collapsed": false,
    "ExecuteTime": {
     "end_time": "2024-10-26T01:51:10.295522Z",
     "start_time": "2024-10-26T01:51:10.293030Z"
    }
   },
   "outputs": [
    {
     "data": {
      "text/plain": "(0.3647885884171071, 0.8726027397260274)"
     },
     "execution_count": 22,
     "metadata": {},
     "output_type": "execute_result"
    }
   ],
   "source": [
    "avg_test_loss, test_acc"
   ]
  },
  {
   "cell_type": "code",
   "execution_count": 19,
   "id": "881b5b850b1ccbc",
   "metadata": {
    "collapsed": false,
    "ExecuteTime": {
     "end_time": "2024-10-26T01:50:56.333500Z",
     "start_time": "2024-10-26T01:50:56.330968Z"
    }
   },
   "outputs": [],
   "source": []
  }
 ],
 "metadata": {
  "kernelspec": {
   "display_name": "Python 3",
   "language": "python",
   "name": "python3"
  },
  "language_info": {
   "codemirror_mode": {
    "name": "ipython",
    "version": 2
   },
   "file_extension": ".py",
   "mimetype": "text/x-python",
   "name": "python",
   "nbconvert_exporter": "python",
   "pygments_lexer": "ipython2",
   "version": "2.7.6"
  }
 },
 "nbformat": 4,
 "nbformat_minor": 5
}
