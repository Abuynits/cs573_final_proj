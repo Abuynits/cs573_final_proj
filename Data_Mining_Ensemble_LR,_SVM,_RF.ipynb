{
  "cells": [
    {
      "cell_type": "code",
      "execution_count": 1,
      "metadata": {
        "colab": {
          "base_uri": "https://localhost:8080/"
        },
        "id": "l0sD6vc62bw8",
        "outputId": "34f1e707-9d15-4629-fd9b-e558c2af0902"
      },
      "outputs": [
        {
          "output_type": "stream",
          "name": "stdout",
          "text": [
            "Training data shape: (3630, 252)\n"
          ]
        }
      ],
      "source": [
        "import pandas as pd\n",
        "import numpy as np\n",
        "df = pd.read_csv(\"/content/df_one_hot_encoded_normalized.csv\")\n",
        "train_data = df[(df['Target']== '0') | (df['Target']== '1')] # Training data (rows labeled 0 and 1)\n",
        "\n",
        "X = train_data.drop(columns=['Target'])\n",
        "y = train_data['Target'].astype(int)\n",
        "\n",
        "print(\"Training data shape:\", X.shape)"
      ]
    },
    {
      "cell_type": "code",
      "execution_count": 2,
      "metadata": {
        "colab": {
          "base_uri": "https://localhost:8080/"
        },
        "id": "Vk9Wo2B82kff",
        "outputId": "86620c0a-3eb7-427e-99e7-b7ab656e4e2a"
      },
      "outputs": [
        {
          "output_type": "stream",
          "name": "stdout",
          "text": [
            "Voting Classifier Accuracy: 0.8925619834710744\n",
            "\n",
            "Classification Report:\n",
            "               precision    recall  f1-score   support\n",
            "\n",
            "           0       0.88      0.95      0.92       449\n",
            "           1       0.91      0.80      0.85       277\n",
            "\n",
            "    accuracy                           0.89       726\n",
            "   macro avg       0.90      0.87      0.88       726\n",
            "weighted avg       0.89      0.89      0.89       726\n",
            "\n"
          ]
        }
      ],
      "source": [
        "from sklearn.ensemble import VotingClassifier\n",
        "from sklearn.linear_model import LogisticRegression\n",
        "from sklearn.svm import SVC\n",
        "from sklearn.ensemble import RandomForestClassifier\n",
        "from sklearn.model_selection import train_test_split\n",
        "from sklearn.metrics import accuracy_score, classification_report\n",
        "from sklearn.preprocessing import StandardScaler\n",
        "\n",
        "X_train, X_test, y_train, y_test = train_test_split(X, y, test_size=0.2, random_state=42)\n",
        "scaler1 = StandardScaler()\n",
        "scaler1.fit(X_train)\n",
        "X_train_scaled = scaler1.transform(X_train)\n",
        "X_test_scaled = scaler1.transform(X_test)\n",
        "\n",
        "logistic_model = LogisticRegression(max_iter=1000, random_state=42)\n",
        "#logistic_model.fit(X_train_scaled, y_train)\n",
        "\n",
        "svm_model = SVC(C= 100, gamma =1, kernel = 'linear', probability=True, random_state=42)\n",
        "#svm_model.fit(X_train_scaled, y_train)\n",
        "\n",
        "rf_model = RandomForestClassifier(n_estimators=200, random_state=42)\n",
        "#rf_model.fit(X_train_scaled, y_train)\n",
        "\n",
        "\n",
        "voting_model = VotingClassifier(estimators=[\n",
        "    ('logistic', logistic_model),\n",
        "    ('svm', svm_model),\n",
        "    ('random_forest', rf_model)\n",
        "], voting='soft')  # 'soft' uses predicted probabilities for better performance\n",
        "\n",
        "voting_model.fit(X_train, y_train)\n",
        "\n",
        "y_pred_voting = voting_model.predict(X_test)\n",
        "\n",
        "print(\"Voting Classifier Accuracy:\", accuracy_score(y_test, y_pred_voting))\n",
        "print(\"\\nClassification Report:\\n\", classification_report(y_test, y_pred_voting))\n"
      ]
    },
    {
      "cell_type": "code",
      "execution_count": 3,
      "metadata": {
        "colab": {
          "base_uri": "https://localhost:8080/"
        },
        "id": "mNeEfPxi3Kph",
        "outputId": "01d72c6e-07f5-4a76-a73b-eedfdeab1d08"
      },
      "outputs": [
        {
          "output_type": "stream",
          "name": "stdout",
          "text": [
            "Cross-Validation Scores: [0.89807163 0.91735537 0.89807163 0.90633609 0.92837466 0.89807163\n",
            " 0.8815427  0.92561983 0.88429752 0.90909091]\n",
            "Mean Accuracy: 0.9046831955922864\n",
            "Standard Deviation: 0.015048485161154458\n"
          ]
        }
      ],
      "source": [
        "from sklearn.model_selection import cross_val_score\n",
        "cv_scores = cross_val_score(voting_model, X, y, cv=10, scoring='accuracy')\n",
        "\n",
        "# Print the results\n",
        "print(\"Cross-Validation Scores:\", cv_scores)\n",
        "print(\"Mean Accuracy:\", cv_scores.mean())\n",
        "print(\"Standard Deviation:\", cv_scores.std())"
      ]
    },
    {
      "cell_type": "code",
      "execution_count": 3,
      "metadata": {
        "id": "gAGPu242IzIW"
      },
      "outputs": [],
      "source": []
    }
  ],
  "metadata": {
    "colab": {
      "provenance": []
    },
    "kernelspec": {
      "display_name": "Python 3",
      "name": "python3"
    },
    "language_info": {
      "name": "python"
    }
  },
  "nbformat": 4,
  "nbformat_minor": 0
}