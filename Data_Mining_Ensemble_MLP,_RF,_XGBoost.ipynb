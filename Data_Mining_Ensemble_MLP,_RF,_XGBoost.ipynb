{
  "nbformat": 4,
  "nbformat_minor": 0,
  "metadata": {
    "colab": {
      "provenance": []
    },
    "kernelspec": {
      "name": "python3",
      "display_name": "Python 3"
    },
    "language_info": {
      "name": "python"
    }
  },
  "cells": [
    {
      "cell_type": "code",
      "source": [
        "import pandas as pd\n",
        "import numpy as np\n",
        "df = pd.read_csv(\"/content/df_one_hot_encoded_normalized.csv\")\n",
        "train_data = df[(df['Target']== '0') | (df['Target']== '1')] # Training data (rows labeled 0 and 1)\n",
        "\n",
        "X = train_data.drop(columns=['Target'])\n",
        "y = train_data['Target'].astype(int)\n",
        "\n",
        "print(\"Training data shape:\", X.shape)"
      ],
      "metadata": {
        "colab": {
          "base_uri": "https://localhost:8080/"
        },
        "id": "Mo9iWamJ5g5Q",
        "outputId": "be5c88fc-7c07-4a57-df93-41543b7ca6d3"
      },
      "execution_count": 1,
      "outputs": [
        {
          "output_type": "stream",
          "name": "stdout",
          "text": [
            "Training data shape: (3630, 252)\n"
          ]
        }
      ]
    },
    {
      "cell_type": "code",
      "source": [
        "from sklearn.ensemble import VotingClassifier, RandomForestClassifier\n",
        "from sklearn.neural_network import MLPClassifier\n",
        "from xgboost import XGBClassifier\n",
        "from sklearn.model_selection import train_test_split\n",
        "from sklearn.metrics import accuracy_score, classification_report\n",
        "\n",
        "# Split the data into training and testing sets\n",
        "X_train, X_test, y_train, y_test = train_test_split(X, y, test_size=0.2, random_state=42)\n",
        "\n",
        "# Define base models\n",
        "rf_model = RandomForestClassifier(n_estimators=200, random_state=42)\n",
        "xgb_model = XGBClassifier(n_estimators=200, learning_rate=0.1, random_state=42, use_label_encoder=False, eval_metric='logloss')\n",
        "mlp_model = MLPClassifier(hidden_layer_sizes=(100,), activation='relu', solver='adam', max_iter=500, random_state=42)\n",
        "\n",
        "# Initialize the Voting Classifier with 'soft' voting\n",
        "voting_model = VotingClassifier(estimators=[\n",
        "    ('random_forest', rf_model),\n",
        "    ('xgboost', xgb_model),\n",
        "    ('mlp', mlp_model)\n",
        "], voting='soft')\n",
        "\n",
        "# Train the Voting Classifier\n",
        "voting_model.fit(X_train, y_train)\n",
        "\n",
        "# Make predictions on the test data\n",
        "y_pred = voting_model.predict(X_test)\n",
        "\n",
        "# Evaluate the model\n",
        "print(\"Voting Classifier Accuracy:\", accuracy_score(y_test, y_pred))\n",
        "print(\"\\nClassification Report:\\n\", classification_report(y_test, y_pred))\n"
      ],
      "metadata": {
        "colab": {
          "base_uri": "https://localhost:8080/"
        },
        "id": "iMp--YfL5hET",
        "outputId": "924fc81c-1a64-426f-c1b2-7ff07ff3c5c5"
      },
      "execution_count": 2,
      "outputs": [
        {
          "output_type": "stream",
          "name": "stderr",
          "text": [
            "/usr/local/lib/python3.10/dist-packages/xgboost/core.py:158: UserWarning: [04:09:21] WARNING: /workspace/src/learner.cc:740: \n",
            "Parameters: { \"use_label_encoder\" } are not used.\n",
            "\n",
            "  warnings.warn(smsg, UserWarning)\n"
          ]
        },
        {
          "output_type": "stream",
          "name": "stdout",
          "text": [
            "Voting Classifier Accuracy: 0.9022038567493113\n",
            "\n",
            "Classification Report:\n",
            "               precision    recall  f1-score   support\n",
            "\n",
            "           0       0.90      0.95      0.92       449\n",
            "           1       0.91      0.83      0.87       277\n",
            "\n",
            "    accuracy                           0.90       726\n",
            "   macro avg       0.90      0.89      0.89       726\n",
            "weighted avg       0.90      0.90      0.90       726\n",
            "\n"
          ]
        }
      ]
    },
    {
      "cell_type": "code",
      "source": [],
      "metadata": {
        "id": "SFy0wo1e6OyJ"
      },
      "execution_count": null,
      "outputs": []
    }
  ]
}